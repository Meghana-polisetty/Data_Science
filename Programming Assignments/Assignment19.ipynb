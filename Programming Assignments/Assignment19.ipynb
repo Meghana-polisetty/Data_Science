{
 "cells": [
  {
   "cell_type": "markdown",
   "id": "d8814d8f",
   "metadata": {},
   "source": [
    "Question1\n",
    "Create a function that takes a string and returns a string in which each character is repeated\n",
    "once.\n",
    "Examples\n",
    "double_char(&quot;String&quot;) ➞ &quot;SSttrriinngg&quot;\n",
    "double_char(&quot;Hello World!&quot;) ➞ &quot;HHeelllloo WWoorrlldd!!&quot;\n",
    "double_char(&quot;1234!_ &quot;) ➞ &quot;11223344!!__ &quot;"
   ]
  },
  {
   "cell_type": "code",
   "execution_count": 1,
   "id": "49c8c55b",
   "metadata": {},
   "outputs": [
    {
     "name": "stdout",
     "output_type": "stream",
     "text": [
      "Enter no. of iteration : 3\n",
      "Enter a string : String\n",
      "SSttrriinngg\n",
      "Enter a string : Hello World\n",
      "HHeelllloo  WWoorrlldd\n",
      "Enter a string : 1234!_\n",
      "11223344!!__\n"
     ]
    }
   ],
   "source": [
    "def double_char(s):\n",
    "    result = []\n",
    "    for i in s:\n",
    "        result.append(i+\"\"+i)\n",
    "    return \"\".join(result)\n",
    "\n",
    "n = int(input(\"Enter no. of iteration : \"))\n",
    "for j in range(n):\n",
    "    s = input(\"Enter a string : \")\n",
    "    print(double_char(s))"
   ]
  },
  {
   "cell_type": "markdown",
   "id": "0ac76902",
   "metadata": {},
   "source": [
    "Question2\n",
    "Create a function that reverses a boolean value and returns the string &quot;boolean expected&quot;\n",
    "if another variable type is given.\n",
    "Examples\n",
    "reverse(True) ➞ False\n",
    "reverse(False) ➞ True\n",
    "reverse(0) ➞ &quot;boolean expected&quot;\n",
    "reverse(None) ➞ &quot;boolean expected&quot;"
   ]
  },
  {
   "cell_type": "code",
   "execution_count": 2,
   "id": "1351772a",
   "metadata": {},
   "outputs": [
    {
     "name": "stdout",
     "output_type": "stream",
     "text": [
      "False\n",
      "True\n",
      "boolean expected\n",
      "boolean expected\n"
     ]
    }
   ],
   "source": [
    "def reverse(arg):\n",
    "    if type(arg) == bool:\n",
    "        return not arg\n",
    "    else:\n",
    "        return \"boolean expected\"\n",
    "    \n",
    "print(reverse(True)) # False\n",
    "print(reverse(False)) # True\n",
    "print(reverse(0)) # \"boolean expected\"\n",
    "print(reverse(None)) # \"boolean expected\" "
   ]
  },
  {
   "cell_type": "markdown",
   "id": "f2f7800c",
   "metadata": {},
   "source": [
    "Question3\n",
    "Create a function that returns the thickness (in meters) of a piece of paper after folding it n\n",
    "number of times. The paper starts off with a thickness of 0.5mm.\n",
    "Examples\n",
    "num_layers(1) ➞ &quot;0.001m&quot;\n",
    "##### Paper folded once is 1mm (equal to 0.001m)\n",
    "num_layers(4) ➞ &quot;0.008m&quot;\n",
    "##### Paper folded 4 times is 8mm (equal to 0.008m)\n",
    "num_layers(21) ➞ &quot;1048.576m&quot;\n",
    "##### Paper folded 21 times is 1048576mm (equal to 1048.576m)"
   ]
  },
  {
   "cell_type": "code",
   "execution_count": 10,
   "id": "dc6b4c88",
   "metadata": {},
   "outputs": [
    {
     "name": "stdout",
     "output_type": "stream",
     "text": [
      "Enter no. of iteration : 3\n",
      "Enter no. of layers: 1\n",
      "0.001m\n",
      "Enter no. of layers: 4\n",
      "0.008m\n",
      "Enter no. of layers: 21\n",
      "1048.576m\n"
     ]
    }
   ],
   "source": [
    "#1m = 1000mm\n",
    "#1mm = 0.001m\n",
    "\n",
    "def num_layers(num):\n",
    "    thickness = 0.5 #initial thickness of paper\n",
    "    m = 1 #initializing first conversion in m\n",
    "    for i in range(num):\n",
    "        thickness = thickness * 2\n",
    "        m = (thickness/1000)\n",
    "    return m\n",
    "\n",
    "n = int(input(\"Enter no. of iteration : \"))\n",
    "for j in range(n):\n",
    "    num = int(input(\"Enter no. of layers: \"))\n",
    "    result = num_layers(num)\n",
    "    result = str(result)\n",
    "    print(result + \"m\")"
   ]
  },
  {
   "cell_type": "markdown",
   "id": "9e83cb56",
   "metadata": {},
   "source": [
    "Question4\n",
    "\n",
    "Create a function that takes a single string as argument and returns an ordered list containing\n",
    "the indices of all capital letters in the string.\n",
    "Examples\n",
    "index_of_caps(&quot;eDaBiT&quot;) ➞ [1, 3, 5]\n",
    "index_of_caps(&quot;eQuINoX&quot;) ➞ [1, 3, 4, 6]\n",
    "index_of_caps(&quot;determine&quot;) ➞ []\n",
    "index_of_caps(&quot;STRIKE&quot;) ➞ [0, 1, 2, 3, 4, 5]\n",
    "index_of_caps(&quot;sUn&quot;) ➞ [1]"
   ]
  },
  {
   "cell_type": "code",
   "execution_count": 12,
   "id": "7d1abc7a",
   "metadata": {},
   "outputs": [
    {
     "name": "stdout",
     "output_type": "stream",
     "text": [
      "Enter no. of iteration : 5\n",
      "Enter a string : eDaBiT\n",
      "[1, 3, 5]\n",
      "Enter a string : eQuINoX\n",
      "[1, 3, 4, 6]\n",
      "Enter a string : determine\n",
      "[]\n",
      "Enter a string : STRIKE\n",
      "[0, 1, 2, 3, 4, 5]\n",
      "Enter a string : sUn\n",
      "[1]\n"
     ]
    }
   ],
   "source": [
    "def index_of_caps(string):\n",
    "    index = [] #initializing empty list to store the indices of uppercase letters\n",
    "    for i in range(len(string)): #because each character needs to be iterated\n",
    "        if string[i].isupper(): #to check if the character is uppercase\n",
    "            index.append(i)\n",
    "    return index\n",
    "    \n",
    "n = int(input(\"Enter no. of iteration : \"))\n",
    "for j in range(n):\n",
    "    string = (input(\"Enter a string : \"))\n",
    "\n",
    "    print(index_of_caps(string))    "
   ]
  },
  {
   "cell_type": "markdown",
   "id": "c5036d49",
   "metadata": {},
   "source": [
    "Question5\n",
    "Using list comprehensions, create a function that finds all even numbers from 1 to the given\n",
    "number.\n",
    "Examples\n",
    "find_even_nums(8) ➞ [2, 4, 6, 8]\n",
    "find_even_nums(4) ➞ [2, 4]\n",
    "find_even_nums(2) ➞ [2]"
   ]
  },
  {
   "cell_type": "code",
   "execution_count": 20,
   "id": "c8ca33fb",
   "metadata": {},
   "outputs": [
    {
     "name": "stdout",
     "output_type": "stream",
     "text": [
      "[2, 4]\n"
     ]
    }
   ],
   "source": [
    "def find_even_nums(num):\n",
    "    l = []\n",
    "    for i in range(2,num+1):\n",
    "        if i % 2 == 0:\n",
    "            l.append(i)\n",
    "    return l\n",
    "\n",
    "print(find_even_nums(4))\n",
    "    "
   ]
  },
  {
   "cell_type": "code",
   "execution_count": 23,
   "id": "5a98abc0",
   "metadata": {},
   "outputs": [
    {
     "name": "stdout",
     "output_type": "stream",
     "text": [
      "Enter no. of iterations : 3\n",
      "Enter a number : 8\n",
      "[2, 4, 6, 8]\n",
      "Enter a number : 4\n",
      "[2, 4]\n",
      "Enter a number : 2\n",
      "[2]\n"
     ]
    }
   ],
   "source": [
    "def find_even_nums(num):\n",
    "    l = [i for i in range(2,num+1) if i % 2 == 0]\n",
    "    return l\n",
    "\n",
    "n = int(input(\"Enter no. of iterations : \"))\n",
    "for j in range(n) :\n",
    "    num = int(input('Enter a number : '))\n",
    "    print(find_even_nums(num))"
   ]
  }
 ],
 "metadata": {
  "kernelspec": {
   "display_name": "Python 3 (ipykernel)",
   "language": "python",
   "name": "python3"
  },
  "language_info": {
   "codemirror_mode": {
    "name": "ipython",
    "version": 3
   },
   "file_extension": ".py",
   "mimetype": "text/x-python",
   "name": "python",
   "nbconvert_exporter": "python",
   "pygments_lexer": "ipython3",
   "version": "3.9.7"
  }
 },
 "nbformat": 4,
 "nbformat_minor": 5
}
