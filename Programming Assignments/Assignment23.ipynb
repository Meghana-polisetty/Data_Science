{
 "cells": [
  {
   "cell_type": "markdown",
   "id": "62f47471",
   "metadata": {},
   "source": [
    "Question 1\n",
    "Create a function that takes a number as an argument and returns True or False depending\n",
    "on whether the number is symmetrical or not. A number is symmetrical when it is the same as\n",
    "its reverse.\n",
    "Examples\n",
    "is_symmetrical(7227) ➞ True\n",
    "is_symmetrical(12567) ➞ False\n",
    "is_symmetrical(44444444) ➞ True\n",
    "is_symmetrical(9939) ➞ False\n",
    "is_symmetrical(1112111) ➞ True"
   ]
  },
  {
   "cell_type": "code",
   "execution_count": 3,
   "id": "fa22b6f3",
   "metadata": {},
   "outputs": [
    {
     "name": "stdout",
     "output_type": "stream",
     "text": [
      "Enter a number to check symmetry : 7227\n",
      "True\n",
      "Enter a number to check symmetry : 12567\n",
      "False\n",
      "Enter a number to check symmetry : 44444444\n",
      "True\n",
      "Enter a number to check symmetry : 9939\n",
      "False\n",
      "Enter a number to check symmetry : 1112111\n",
      "True\n"
     ]
    }
   ],
   "source": [
    "def is_symmetric(n):\n",
    "    #check first character and last character, if equal then they are symmetric\n",
    "    #Before that, we need to convert the number into string format to check.\n",
    "    return str(n) == str(n)[::-1] \n",
    "\n",
    "N = 5\n",
    "for j in range(N):\n",
    "    n = int(input(\"Enter a number to check symmetry : \"))\n",
    "    print(is_symmetric(n))"
   ]
  },
  {
   "cell_type": "markdown",
   "id": "49a6c4f5",
   "metadata": {},
   "source": [
    "Question 2\n",
    "Given a string of numbers separated by a comma and space, return the product of the\n",
    "numbers.\n",
    "Examples\n",
    "multiply_nums(&quot;2, 3&quot;) ➞ 6\n",
    "multiply_nums(&quot;1, 2, 3, 4&quot;) ➞ 24\n",
    "multiply_nums(&quot;54, 75, 453, 0&quot;) ➞ 0\n",
    "multiply_nums(&quot;10, -2&quot;) ➞ -20"
   ]
  },
  {
   "cell_type": "code",
   "execution_count": 5,
   "id": "367661e3",
   "metadata": {},
   "outputs": [
    {
     "name": "stdout",
     "output_type": "stream",
     "text": [
      "Enter string of numbers separated by a comma and space :2, 3\n",
      "6\n",
      "Enter string of numbers separated by a comma and space :1, 2, 3, 4\n",
      "24\n",
      "Enter string of numbers separated by a comma and space :54, 75, 453, 0\n",
      "0\n",
      "Enter string of numbers separated by a comma and space :10, -2\n",
      "-20\n"
     ]
    }
   ],
   "source": [
    "def multiply_nums(string):\n",
    "    string = string.replace(' ', \"\")\n",
    "    string = string.split(',')\n",
    "    sum = 1\n",
    "    for i in string:\n",
    "        sum = sum * int(i)\n",
    "    return sum\n",
    "\n",
    "N = 4\n",
    "for j in range(N):\n",
    "    string = (input(\"Enter string of numbers separated by a comma and space :\"))\n",
    "    print(multiply_nums(string))"
   ]
  },
  {
   "cell_type": "markdown",
   "id": "21312736",
   "metadata": {},
   "source": [
    "Question 3\n",
    "Create a function that squares every digit of a number.\n",
    "Examples\n",
    "square_digits(9119) ➞ 811181\n",
    "square_digits(2483) ➞ 416649\n",
    "square_digits(3212) ➞ 9414\n",
    "Notes\n",
    "The function receives an integer and must return an integer."
   ]
  },
  {
   "cell_type": "code",
   "execution_count": 9,
   "id": "81c9aa9b",
   "metadata": {},
   "outputs": [
    {
     "name": "stdout",
     "output_type": "stream",
     "text": [
      " Enter a number :9119\n",
      "811181\n",
      " Enter a number :2483\n",
      "416649\n",
      " Enter a number :3212\n",
      "9414\n"
     ]
    }
   ],
   "source": [
    "def square_digits(num):\n",
    "    x = ''.join(str(int(i)**2) for i in str(num))\n",
    "    return int(x)\n",
    "\n",
    "N = 3\n",
    "for j in range(N):\n",
    "    num = (input(\" Enter a number :\"))\n",
    "    print(square_digits(num))"
   ]
  },
  {
   "cell_type": "markdown",
   "id": "765d77ec",
   "metadata": {},
   "source": [
    "Question 4\n",
    "Create a function that sorts a list and removes all duplicate items from it.\n",
    "Examples\n",
    "setify([1, 3, 3, 5, 5]) ➞ [1, 3, 5]\n",
    "setify([4, 4, 4, 4]) ➞ [4]\n",
    "setify([5, 7, 8, 9, 10, 15]) ➞ [5, 7, 8, 9, 10, 15]\n",
    "setify([3, 3, 3, 2, 1]) ➞ [1, 2, 3]"
   ]
  },
  {
   "cell_type": "code",
   "execution_count": 10,
   "id": "3dd9d814",
   "metadata": {},
   "outputs": [
    {
     "data": {
      "text/plain": [
       "[1, 3, 5]"
      ]
     },
     "execution_count": 10,
     "metadata": {},
     "output_type": "execute_result"
    }
   ],
   "source": [
    "def setify(list1):\n",
    "    return list(set(list1))\n",
    "\n",
    "setify([1, 3, 3, 5, 5])"
   ]
  },
  {
   "cell_type": "code",
   "execution_count": 11,
   "id": "b9be9f9b",
   "metadata": {},
   "outputs": [
    {
     "data": {
      "text/plain": [
       "[4]"
      ]
     },
     "execution_count": 11,
     "metadata": {},
     "output_type": "execute_result"
    }
   ],
   "source": [
    "setify([4, 4, 4, 4]) "
   ]
  },
  {
   "cell_type": "code",
   "execution_count": 12,
   "id": "faed46b7",
   "metadata": {},
   "outputs": [
    {
     "data": {
      "text/plain": [
       "[5, 7, 8, 9, 10, 15]"
      ]
     },
     "execution_count": 12,
     "metadata": {},
     "output_type": "execute_result"
    }
   ],
   "source": [
    "setify([5, 7, 8, 9, 10, 15])"
   ]
  },
  {
   "cell_type": "code",
   "execution_count": 13,
   "id": "59641d27",
   "metadata": {},
   "outputs": [
    {
     "data": {
      "text/plain": [
       "[1, 2, 3]"
      ]
     },
     "execution_count": 13,
     "metadata": {},
     "output_type": "execute_result"
    }
   ],
   "source": [
    "setify([3, 3, 3, 2, 1])"
   ]
  },
  {
   "cell_type": "markdown",
   "id": "638c8957",
   "metadata": {},
   "source": [
    "Question 5\n",
    "Create a function that returns the mean of all digits.\n",
    "Examples\n",
    "mean(42) ➞ 3\n",
    "mean(12345) ➞ 3\n",
    "mean(666) ➞ 6\n",
    "Notes\n",
    " The mean of all digits is the sum of digits / how many digits there are (e.g. mean of digits in\n",
    "512 is (5+1+2)/3(number of digits) = 8/3=2).\n",
    " The mean will always be an integer."
   ]
  },
  {
   "cell_type": "code",
   "execution_count": 17,
   "id": "314f7203",
   "metadata": {},
   "outputs": [
    {
     "name": "stdout",
     "output_type": "stream",
     "text": [
      " Enter a number :42\n",
      "3\n",
      " Enter a number :12345\n",
      "3\n",
      " Enter a number :666\n",
      "6\n"
     ]
    }
   ],
   "source": [
    "#Mean = Sum/N\n",
    "\n",
    "def mean(num):\n",
    "    n = len(str(num))\n",
    "    Sum = 0\n",
    "    for i in str(num):\n",
    "        Sum = Sum + int(i)\n",
    "    return int(Sum/n)\n",
    "\n",
    "N = 3\n",
    "for j in range(N):\n",
    "    num = (input(\" Enter a number :\"))\n",
    "    print(mean(num))"
   ]
  },
  {
   "cell_type": "code",
   "execution_count": 16,
   "id": "dbee369a",
   "metadata": {},
   "outputs": [
    {
     "data": {
      "text/plain": [
       "2"
      ]
     },
     "execution_count": 16,
     "metadata": {},
     "output_type": "execute_result"
    }
   ],
   "source": [
    "N = 26\n",
    "len(str(N))"
   ]
  }
 ],
 "metadata": {
  "kernelspec": {
   "display_name": "Python 3 (ipykernel)",
   "language": "python",
   "name": "python3"
  },
  "language_info": {
   "codemirror_mode": {
    "name": "ipython",
    "version": 3
   },
   "file_extension": ".py",
   "mimetype": "text/x-python",
   "name": "python",
   "nbconvert_exporter": "python",
   "pygments_lexer": "ipython3",
   "version": "3.9.7"
  }
 },
 "nbformat": 4,
 "nbformat_minor": 5
}
