{
 "cells": [
  {
   "cell_type": "markdown",
   "id": "5edc87c5",
   "metadata": {},
   "source": [
    "Question1\n",
    "Create a function that takes an integer and returns a list from 1 to the given number, where:\n",
    "1. If the number can be divided evenly by 4, amplify it by 10 (i.e. return 10 times the\n",
    "number).\n",
    "2. If the number cannot be divided evenly by 4, simply return the number.\n",
    "Examples\n",
    "amplify(4) ➞ [1, 2, 3, 40]\n",
    "amplify(3) ➞ [1, 2, 3]\n",
    "amplify(25) ➞ [1, 2, 3, 40, 5, 6, 7, 80, 9, 10, 11, 120, 13, 14, 15, 160,\n",
    "17, 18, 19, 200, 21, 22, 23, 240, 25]\n",
    "\n",
    "Notes\n",
    " The given integer will always be equal to or greater than 1.\n",
    " Include the number (see example above).\n",
    " To perform this problem with its intended purpose, try doing it with list\n",
    "comprehensions. If that&#39;s too difficult, just solve the challenge any way you can."
   ]
  },
  {
   "cell_type": "code",
   "execution_count": 5,
   "id": "3a57960a",
   "metadata": {},
   "outputs": [
    {
     "name": "stdout",
     "output_type": "stream",
     "text": [
      "Enter a number : 4\n",
      "[1, 2, 3, 40]\n",
      "Enter a number : 3\n",
      "[1, 2, 3]\n",
      "Enter a number : 25\n",
      "[1, 2, 3, 40, 5, 6, 7, 80, 9, 10, 11, 120, 13, 14, 15, 160, 17, 18, 19, 200, 21, 22, 23, 240, 25]\n"
     ]
    }
   ],
   "source": [
    "def amplify(n):\n",
    "    while n>=1 :\n",
    "        return [i*10 if i % 4 == 0 else i for i in range(1,n+1)]\n",
    "\n",
    "N = 3\n",
    "for j in range(N):\n",
    "    n = int(input(\"Enter a number : \"))\n",
    "    print(amplify(n))    "
   ]
  },
  {
   "cell_type": "markdown",
   "id": "803e3095",
   "metadata": {},
   "source": [
    "Question2\n",
    "Create a function that takes a list of numbers and return the number that&#39;s unique.\n",
    "Examples\n",
    "unique([3, 3, 3, 7, 3, 3]) ➞ 7\n",
    "unique([0, 0, 0.77, 0, 0]) ➞ 0.77\n",
    "unique([0, 1, 1, 1, 1, 1, 1, 1]) ➞ 0\n",
    "Notes\n",
    "Test cases will always have exactly one unique number while all others are the same."
   ]
  },
  {
   "cell_type": "code",
   "execution_count": 10,
   "id": "35becc76",
   "metadata": {},
   "outputs": [
    {
     "name": "stdout",
     "output_type": "stream",
     "text": [
      "Enter no. of elements in the list : 6\n",
      "Enter elements in the list : 3\n",
      "Enter elements in the list : 3\n",
      "Enter elements in the list : 3\n",
      "Enter elements in the list : 7\n",
      "Enter elements in the list : 3\n",
      "Enter elements in the list : 3\n",
      "['3', '3', '3', '7', '3', '3']\n",
      "7\n",
      "Enter no. of elements in the list : 5\n",
      "Enter elements in the list : 0\n",
      "Enter elements in the list : 0\n",
      "Enter elements in the list : 0.77\n",
      "Enter elements in the list : 0\n",
      "Enter elements in the list : 0\n",
      "['3', '3', '3', '7', '3', '3', '0', '0', '0.77', '0', '0']\n",
      "0.77\n",
      "Enter no. of elements in the list : 8\n",
      "Enter elements in the list : 0\n",
      "Enter elements in the list : 7\n",
      "Enter elements in the list : 7\n",
      "Enter elements in the list : 7\n",
      "Enter elements in the list : 7\n",
      "Enter elements in the list : 7\n",
      "Enter elements in the list : 7\n",
      "Enter elements in the list : 7\n",
      "['3', '3', '3', '7', '3', '3', '0', '0', '0.77', '0', '0', '0', '7', '7', '7', '7', '7', '7', '7']\n",
      "0.77\n"
     ]
    }
   ],
   "source": [
    "def unique(list1):\n",
    "    set1 = list(set(list1)) #this will give us unique list of numbers\n",
    "    for i in set1:\n",
    "        if list1.count(i) == 1:\n",
    "            return i\n",
    "list1 = []\n",
    "N = 3\n",
    "for j in range(N):\n",
    "    x = int(input(\"Enter no. of elements in the list : \"))\n",
    "    for j in range(x):\n",
    "        ele = (input(\"Enter elements in the list : \"))\n",
    "        list1.append(ele)\n",
    "    print(list1)\n",
    "    print(unique(list1))"
   ]
  },
  {
   "cell_type": "markdown",
   "id": "4df6a8d2",
   "metadata": {},
   "source": [
    "Question4\n",
    "Create a function that takes a list of strings and return a list, sorted from shortest to longest.\n",
    "Examples\n",
    "sort_by_length([&quot;Google&quot;, &quot;Apple&quot;, &quot;Microsoft&quot;])\n",
    "➞ [&quot;Apple&quot;, &quot;Google&quot;, &quot;Microsoft&quot;]\n",
    "sort_by_length([&quot;Leonardo&quot;, &quot;Michelangelo&quot;, &quot;Raphael&quot;, &quot;Donatello&quot;])\n",
    "➞ [&quot;Raphael&quot;, &quot;Leonardo&quot;, &quot;Donatello&quot;, &quot;Michelangelo&quot;]\n",
    "sort_by_length([&quot;Turing&quot;, &quot;Einstein&quot;, &quot;Jung&quot;])\n",
    "➞ [&quot;Jung&quot;, &quot;Turing&quot;, &quot;Einstein&quot;]\n",
    "Notes\n",
    "All test cases contain lists with strings of different lengths, so you won&#39;t have to deal with\n",
    "multiple strings of the same length."
   ]
  },
  {
   "cell_type": "code",
   "execution_count": 14,
   "id": "207a332d",
   "metadata": {},
   "outputs": [
    {
     "data": {
      "text/plain": [
       "['Apple', 'Google', 'Microsoft']"
      ]
     },
     "execution_count": 14,
     "metadata": {},
     "output_type": "execute_result"
    }
   ],
   "source": [
    "def sort_by_length(list1):\n",
    "    return sorted(list1, key = len, reverse = False) \n",
    "#specifying key=len (the built in len() function) sorts the strings by length, from shortest to longest.\n",
    "\n",
    "sort_by_length([\"Google\", \"Apple\", \"Microsoft\"])"
   ]
  },
  {
   "cell_type": "code",
   "execution_count": 15,
   "id": "e6dda024",
   "metadata": {},
   "outputs": [
    {
     "data": {
      "text/plain": [
       "['Raphael', 'Leonardo', 'Donatello', 'Michelangelo']"
      ]
     },
     "execution_count": 15,
     "metadata": {},
     "output_type": "execute_result"
    }
   ],
   "source": [
    "sort_by_length([\"Leonardo\", \"Michelangelo\", \"Raphael\", \"Donatello\"])"
   ]
  },
  {
   "cell_type": "code",
   "execution_count": 16,
   "id": "49b70fe1",
   "metadata": {},
   "outputs": [
    {
     "data": {
      "text/plain": [
       "['Jung', 'Turing', 'Einstein']"
      ]
     },
     "execution_count": 16,
     "metadata": {},
     "output_type": "execute_result"
    }
   ],
   "source": [
    "sort_by_length([\"Turing\", \"Einstein\", \"Jung\"])"
   ]
  },
  {
   "cell_type": "markdown",
   "id": "a6f6559d",
   "metadata": {},
   "source": [
    "Question5\n",
    "Create a function that validates whether three given integers form a Pythagorean triplet. The\n",
    "sum of the squares of the two smallest integers must equal the square of the largest number to\n",
    "be validated.\n",
    "\n",
    "Examples\n",
    "is_triplet(3, 4, 5) ➞ True\n",
    "##### 3² + 4² = 25\n",
    "#### 5² = 25\n",
    "is_triplet(13, 5, 12) ➞ True\n",
    "#### 5² + 12² = 169\n",
    "#### 13² = 169\n",
    "is_triplet(1, 2, 3) ➞ False\n",
    "#### 1² + 2² = 5\n",
    "#### 3² = 9\n",
    "Notes\n",
    "Numbers may not be given in a sorted order."
   ]
  },
  {
   "cell_type": "code",
   "execution_count": 17,
   "id": "52220c4a",
   "metadata": {},
   "outputs": [
    {
     "name": "stdout",
     "output_type": "stream",
     "text": [
      "Enter a number : 3\n",
      "Enter a number : 4\n",
      "Enter a number : 5\n",
      "The sides of the triangle form triplet \n",
      "True\n",
      "Enter a number : 13\n",
      "Enter a number : 5\n",
      "Enter a number : 12\n",
      "The sides of the triangle form triplet \n",
      "True\n",
      "Enter a number : 1\n",
      "Enter a number : 2\n",
      "Enter a number : 3\n",
      "The sides of the triangle do not form a triplet \n",
      "False\n"
     ]
    }
   ],
   "source": [
    "def is_triplet(n1,n2,n3):\n",
    "    list1 = []\n",
    "    list1.extend((n1,n2,n3))\n",
    "    list1 = sorted(list1) #ascendig order of numbers\n",
    "\n",
    "    if list1[0]**2 + list1[1]**2 == list1[2]**2:\n",
    "        print(\"The sides of the triangle form triplet \")\n",
    "        return True\n",
    "    else:\n",
    "        print(\"The sides of the triangle do not form a triplet \")\n",
    "        return False\n",
    "    \n",
    "N = 3\n",
    "for j in range(N):\n",
    "    n1 = int(input(\"Enter a number : \"))\n",
    "    n2 = int(input(\"Enter a number : \"))\n",
    "    n3 = int(input(\"Enter a number : \"))\n",
    "    print(is_triplet(n1,n2,n3))"
   ]
  }
 ],
 "metadata": {
  "kernelspec": {
   "display_name": "Python 3 (ipykernel)",
   "language": "python",
   "name": "python3"
  },
  "language_info": {
   "codemirror_mode": {
    "name": "ipython",
    "version": 3
   },
   "file_extension": ".py",
   "mimetype": "text/x-python",
   "name": "python",
   "nbconvert_exporter": "python",
   "pygments_lexer": "ipython3",
   "version": "3.9.7"
  }
 },
 "nbformat": 4,
 "nbformat_minor": 5
}
