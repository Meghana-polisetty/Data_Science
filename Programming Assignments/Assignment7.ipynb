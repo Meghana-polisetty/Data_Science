{
 "cells": [
  {
   "cell_type": "code",
   "execution_count": 3,
   "id": "bf62658a",
   "metadata": {},
   "outputs": [
    {
     "name": "stdout",
     "output_type": "stream",
     "text": [
      "Sum of array of elements is  74\n"
     ]
    }
   ],
   "source": [
    "#sum of array of elements\n",
    "import array as ar\n",
    "\n",
    "def sumofarray(arr):\n",
    "    sum = 0 #initializing sum as 0 initially\n",
    "    n = len(arr) #for traversing through the array, we need to first find the length of the array\n",
    "    for i in range(n): #and then traverse through the array by using range function\n",
    "        sum = sum + arr[i] #adding each array element to the initial sum\n",
    "    return sum\n",
    "\n",
    "a = ar.array('i',[1,2,3,4,5,6,4,5,3,7,8,2,9,8,7])\n",
    "print (\"Sum of array of elements is \", sumofarray(a)) \n"
   ]
  },
  {
   "cell_type": "code",
   "execution_count": 6,
   "id": "d468121b",
   "metadata": {},
   "outputs": [
    {
     "name": "stdout",
     "output_type": "stream",
     "text": [
      "Largest element in the arr 95\n"
     ]
    }
   ],
   "source": [
    "#to find the largest element in the list\n",
    "\n",
    "import array as ar\n",
    "\n",
    "def largestelemnt(arr,n):\n",
    "    max = arr[0] #initialize first elemednt as the largest iniially\n",
    "    \n",
    "    for i in range(1,n): #keep traversing through the loop, change the max element as and when the elemnt is greater\n",
    "        if arr[i] > max :\n",
    "            max = arr[i]\n",
    "    return max    \n",
    "\n",
    "a = ar.array('i',[10,72,63,84,35,68,34,95,53,17,80,26,93,83,79])\n",
    "n = len(a)\n",
    "\n",
    "print(\"Largest element in the arr\",largestelemnt(a,n))\n"
   ]
  },
  {
   "cell_type": "code",
   "execution_count": 22,
   "id": "144a2977",
   "metadata": {},
   "outputs": [
    {
     "name": "stdout",
     "output_type": "stream",
     "text": [
      "Number of elements in array:5\n",
      "1\n",
      "2\n",
      "3\n",
      "4\n",
      "5\n",
      "Enter no. of places you want to shift:2\n",
      "Array before rotation :\n",
      "12345\n",
      "Array after left rotation :\n",
      "34512"
     ]
    }
   ],
   "source": [
    "#Left Array rotation\n",
    "import array as ar\n",
    "\n",
    "arr=[]\n",
    "n=int(input(\"Number of elements in array:\")) #to take input of number of elemnts in the array\n",
    "for i in range(0,n):\n",
    "   l=int(input())\n",
    "   arr.append(l)\n",
    "    \n",
    "shift = int(input(\"Enter no. of places you want to shift:\"))\n",
    "\n",
    "def printArray(arr):\n",
    "    for i in range(0,len(arr)): \n",
    "        print(arr[i],end ='')\n",
    "        \n",
    "def leftarrrot(arr,shift):\n",
    "    for i in range(0,shift):\n",
    "        temp = arr[0] #saving first element in the temp var\n",
    "        for j in range(0,len(arr)-1): #for shifting remaining elemnts one by one\n",
    "            arr[j] = arr[j+1] \n",
    "        arr[len(arr)-1] = temp #copying last element in temp\n",
    "    return arr\n",
    "\n",
    "\n",
    "print(\"Array before rotation :\")\n",
    "(printArray(arr))\n",
    "leftrotatedArray = leftarrrot(arr,shift)\n",
    "print(\"\\nArray after left rotation :\")\n",
    "(printArray(leftrotatedArray))\n",
    "                              "
   ]
  },
  {
   "cell_type": "code",
   "execution_count": 23,
   "id": "da317569",
   "metadata": {},
   "outputs": [
    {
     "name": "stdout",
     "output_type": "stream",
     "text": [
      "Number of elements in array:5\n",
      "1\n",
      "2\n",
      "3\n",
      "4\n",
      "5\n",
      "Enter no. of places you want to shift:2\n",
      "Array before rotation :\n",
      "12345\n",
      "Array after right rotation :\n",
      "45123"
     ]
    }
   ],
   "source": [
    "# Right Array rotation\n",
    "import array as ar\n",
    "\n",
    "arr=[]\n",
    "n=int(input(\"Number of elements in array:\")) #to take input of number of elemnts in the array\n",
    "for i in range(0,n):\n",
    "   l=int(input())\n",
    "   arr.append(l)\n",
    "    \n",
    "shift = int(input(\"Enter no. of places you want to shift:\"))\n",
    "\n",
    "def printArray(arr):\n",
    "    for i in range(0,len(arr)): \n",
    "        print(arr[i],end ='')\n",
    "        \n",
    "def rightarrrot(arr,shift):\n",
    "    for i in range(0,shift):\n",
    "        temp = arr[len(arr)-1] #saving last element in the temp var\n",
    "        for j in range(len(arr)-1,0,-1): #for shifting remaining elemnts one by one towards right, hence jump as -1\n",
    "            arr[j] = arr[j-1] \n",
    "        arr[0] = temp #copying 1st element in temp\n",
    "    return arr\n",
    "\n",
    "print(\"Array before rotation :\")\n",
    "(printArray(arr))\n",
    "rightrotatedArray = rightarrrot(arr,shift)\n",
    "print(\"\\nArray after right rotation :\")\n",
    "(printArray(rightrotatedArray))"
   ]
  },
  {
   "cell_type": "code",
   "execution_count": null,
   "id": "4a9d30b1",
   "metadata": {},
   "outputs": [],
   "source": [
    "#Split the array and add the first part to the end\n",
    "#This is same left arr rotation"
   ]
  },
  {
   "cell_type": "code",
   "execution_count": 27,
   "id": "085e26c9",
   "metadata": {},
   "outputs": [
    {
     "name": "stdout",
     "output_type": "stream",
     "text": [
      "Number of elements in array:5\n",
      "23\n",
      "4\n",
      "8\n",
      "12\n",
      "56\n",
      "Array is Monotonic? False\n"
     ]
    }
   ],
   "source": [
    "#Check if Array is Monotonic\n",
    "#An array is monotonic if it is either monotone increasing or monotone decreasing.\n",
    "#An array A is monotone increasing if for all i <= j, A[i] <= A[j]. \n",
    "#An array A is monotone decreasing if for all i <= j, A[i] >= A[j].\n",
    "\n",
    "import array as ar\n",
    "\n",
    "arr=[]\n",
    "n=int(input(\"Number of elements in array:\")) #to take input of number of elemnts in the array\n",
    "for i in range(0,n):\n",
    "   l=int(input())\n",
    "   arr.append(l)\n",
    "    \n",
    "def isMonotonic(arr):\n",
    "    for i in range(len(arr)-1):\n",
    "        if all([arr[i] <= arr[i+1]] or [arr[i] >= arr[i+1]]) : #keep checking the consecutive elements at each itr\n",
    "            return True\n",
    "        else :\n",
    "            return False\n",
    "print(\"Array is Monotonic?\",isMonotonic(arr))        "
   ]
  },
  {
   "cell_type": "code",
   "execution_count": null,
   "id": "74402ed4",
   "metadata": {},
   "outputs": [],
   "source": []
  }
 ],
 "metadata": {
  "kernelspec": {
   "display_name": "Python 3 (ipykernel)",
   "language": "python",
   "name": "python3"
  },
  "language_info": {
   "codemirror_mode": {
    "name": "ipython",
    "version": 3
   },
   "file_extension": ".py",
   "mimetype": "text/x-python",
   "name": "python",
   "nbconvert_exporter": "python",
   "pygments_lexer": "ipython3",
   "version": "3.9.7"
  }
 },
 "nbformat": 4,
 "nbformat_minor": 5
}
