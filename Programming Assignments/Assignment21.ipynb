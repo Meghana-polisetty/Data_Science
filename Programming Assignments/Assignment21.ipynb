{
 "cells": [
  {
   "cell_type": "markdown",
   "id": "44252a70",
   "metadata": {},
   "source": [
    "Question1\n",
    "Write a function that takes a list and a number as arguments. Add the number to the end of\n",
    "the list, then remove the first element of the list. The function should then return the updated\n",
    "list.\n",
    "Examples\n",
    "next_in_line([5, 6, 7, 8, 9], 1) ➞ [6, 7, 8, 9, 1]\n",
    "next_in_line([7, 6, 3, 23, 17], 10) ➞ [6, 3, 23, 17, 10]\n",
    "next_in_line([1, 10, 20, 42 ], 6) ➞ [10, 20, 42, 6]\n",
    "next_in_line([], 6) ➞ &quot;No list has been selected&quot;"
   ]
  },
  {
   "cell_type": "code",
   "execution_count": 1,
   "id": "06c23e2b",
   "metadata": {},
   "outputs": [
    {
     "data": {
      "text/plain": [
       "[6, 7, 8, 9, 1]"
      ]
     },
     "execution_count": 1,
     "metadata": {},
     "output_type": "execute_result"
    }
   ],
   "source": [
    "def next_in_line (l,num):\n",
    "    if len(l) > 0:\n",
    "        l.append(num)\n",
    "        return l[1:]\n",
    "    else :\n",
    "        print(\"No list has been selected\")\n",
    "next_in_line([5, 6, 7, 8, 9], 1)        "
   ]
  },
  {
   "cell_type": "code",
   "execution_count": 2,
   "id": "99ee97de",
   "metadata": {},
   "outputs": [
    {
     "data": {
      "text/plain": [
       "[6, 3, 23, 17, 10]"
      ]
     },
     "execution_count": 2,
     "metadata": {},
     "output_type": "execute_result"
    }
   ],
   "source": [
    "next_in_line([7, 6, 3, 23, 17], 10)"
   ]
  },
  {
   "cell_type": "code",
   "execution_count": 3,
   "id": "f5fdb193",
   "metadata": {},
   "outputs": [
    {
     "name": "stdout",
     "output_type": "stream",
     "text": [
      "No list has been selected\n"
     ]
    }
   ],
   "source": [
    "next_in_line([], 6)"
   ]
  },
  {
   "cell_type": "markdown",
   "id": "ba3de813",
   "metadata": {},
   "source": [
    "Question2\n",
    "Create the function that takes a list of dictionaries and returns the sum of people&#39;s budgets.\n",
    "Examples\n",
    "get_budgets([\n",
    "{ &quot;name&quot;: &quot;John&quot;, &quot;age&quot;: 21, &quot;budget&quot;: 23000 },\n",
    "{ &quot;name&quot;: &quot;Steve&quot;, &quot;age&quot;: 32, &quot;budget&quot;: 40000 },\n",
    "{ &quot;name&quot;: &quot;Martin&quot;, &quot;age&quot;: 16, &quot;budget&quot;: 2700 }\n",
    "]) ➞ 65700\n",
    "get_budgets([\n",
    "{ &quot;name&quot;: &quot;John&quot;, &quot;age&quot;: 21, &quot;budget&quot;: 29000 },\n",
    "{ &quot;name&quot;: &quot;Steve&quot;, &quot;age&quot;: 32, &quot;budget&quot;: 32000 },\n",
    "{ &quot;name&quot;: &quot;Martin&quot;, &quot;age&quot;: 16, &quot;budget&quot;: 1600 }"
   ]
  },
  {
   "cell_type": "code",
   "execution_count": 5,
   "id": "30fedda5",
   "metadata": {},
   "outputs": [],
   "source": [
    "def get_budgets(dict1):\n",
    "    Sum = 0\n",
    "    for d in dict1:\n",
    "        for k,v in d.items():\n",
    "            if k == 'budget':\n",
    "                Sum = Sum + v\n",
    "    return Sum           "
   ]
  },
  {
   "cell_type": "code",
   "execution_count": 6,
   "id": "59bb9ac3",
   "metadata": {},
   "outputs": [
    {
     "data": {
      "text/plain": [
       "65700"
      ]
     },
     "execution_count": 6,
     "metadata": {},
     "output_type": "execute_result"
    }
   ],
   "source": [
    "get_budgets([{ 'name': 'John', 'age': 21, 'budget': 23000 },\n",
    "{ 'name': 'Steve', 'age': 32, 'budget': 40000 },\n",
    "{ 'name': 'Martin', 'age': 16, 'budget': 2700 }])"
   ]
  },
  {
   "cell_type": "code",
   "execution_count": 7,
   "id": "1e5f29e9",
   "metadata": {},
   "outputs": [
    {
     "data": {
      "text/plain": [
       "62600"
      ]
     },
     "execution_count": 7,
     "metadata": {},
     "output_type": "execute_result"
    }
   ],
   "source": [
    "get_budgets([\n",
    "{ 'name': 'John', 'age': 21, 'budget': 29000 },\n",
    "{ 'name': 'Steve', 'age': 32, 'budget': 32000 },\n",
    "{ 'name': 'Martin', 'age': 16, 'budget': 1600 }\n",
    "])"
   ]
  },
  {
   "cell_type": "markdown",
   "id": "4198ecd5",
   "metadata": {},
   "source": [
    "Create a function that takes a string and returns a string with its letters in alphabetical order.\n",
    "Examples\n",
    "alphabet_soup('hello') ➞ 'ehllo'\n",
    "alphabet_soup('edabit') ➞ 'abdeit'\n",
    "alphabet_soup('hacker') ➞ 'acehkr'\n",
    "alphabet_soup('geek') ➞ 'eegk'\n",
    "alphabet_soup('javascript') ➞ 'aacijprstv'"
   ]
  },
  {
   "cell_type": "code",
   "execution_count": 12,
   "id": "c604f6b7",
   "metadata": {},
   "outputs": [
    {
     "name": "stdout",
     "output_type": "stream",
     "text": [
      "Enter no. of iteration5\n",
      "Enter a string : hello\n",
      "ehllo\n",
      "Enter a string : edabit\n",
      "abdeit\n",
      "Enter a string : hacker\n",
      "acehkr\n",
      "Enter a string : geek\n",
      "eegk\n",
      "Enter a string : javascript\n",
      "aacijprstv\n"
     ]
    }
   ],
   "source": [
    "def alphabet_soup(string):\n",
    "    return ''.join(sorted(string))\n",
    "\n",
    "n = int(input(\"Enter no. of iteration\"))\n",
    "for j in range(n):\n",
    "    string = input(\"Enter a string : \")\n",
    "    \n",
    "    print(alphabet_soup(string))"
   ]
  },
  {
   "cell_type": "markdown",
   "id": "0320de5b",
   "metadata": {},
   "source": [
    "Question4\n",
    "Suppose that you invest $10,000 for 10 years at an interest rate of 6% compounded monthly.\n",
    "What will be the value of your investment at the end of the 10 year period?\n",
    "Create a function that accepts the principal p, the term in years t, the interest rate r, and the\n",
    "number of compounding periods per year n. The function returns the value at the end of term\n",
    "rounded to the nearest cent.\n",
    "For the example above:\n",
    "compound_interest(10000, 10, 0.06, 12) ➞ 18193.97\n",
    "Note that the interest rate is given as a decimal and n=12 because with monthly compounding\n",
    "there are 12 periods per year. Compounding can also be done annually, quarterly, weekly, or\n",
    "daily.\n",
    "Examples\n",
    "compound_interest(100, 1, 0.05, 1) ➞ 105.0\n",
    "compound_interest(3500, 15, 0.1, 4) ➞ 15399.26\n",
    "compound_interest(100000, 20, 0.15, 365) ➞ 2007316.26\n",
    "\n",
    "FV = PV(1 + r/m)mt\n"
   ]
  },
  {
   "cell_type": "code",
   "execution_count": 15,
   "id": "3a52976e",
   "metadata": {},
   "outputs": [
    {
     "name": "stdout",
     "output_type": "stream",
     "text": [
      "Enter no. of iterations : 4\n",
      "Enter principal amount : 10000\n",
      "Enter term years : 10\n",
      "Enter interest rate : 0.06\n",
      "Enter compounding years : 12\n",
      "18193.97\n",
      "Enter principal amount : 100\n",
      "Enter term years : 1\n",
      "Enter interest rate : 0.05\n",
      "Enter compounding years : 1\n",
      "105.0\n",
      "Enter principal amount : 3500\n",
      "Enter term years : 15\n",
      "Enter interest rate : 0.1\n",
      "Enter compounding years : 4\n",
      "15399.26\n",
      "Enter principal amount : 100000\n",
      "Enter term years : 20\n",
      "Enter interest rate : 0.15\n",
      "Enter compounding years : 365\n",
      "2007316.26\n"
     ]
    }
   ],
   "source": [
    "def compound_interest(p_amt, t, r, n):\n",
    "    future_value = p_amt *(1 + (r/n)) ** (t * n)\n",
    "    return round(future_value,2)\n",
    "\n",
    "n = int(input(\"Enter no. of iterations : \"))\n",
    "for j in range(n):\n",
    "    \n",
    "    p_amt = float(input(\"Enter principal amount : \"))\n",
    "    t = float(input(\"Enter term years : \"))\n",
    "    r = float(input(\"Enter interest rate : \"))\n",
    "    n = float(input(\"Enter compounding years : \"))\n",
    "    print(compound_interest(p_amt, t, r, n))\n"
   ]
  },
  {
   "cell_type": "markdown",
   "id": "74c6cc1a",
   "metadata": {},
   "source": [
    "Write a function that takes a list of elements and returns only the integers.\n",
    "Examples\n",
    "return_only_integer([9, 2, 'space', 'car', 'lion', 16]) ➞ [9, 2, 16]\n",
    "return_only_integer(['hello', 81, 'basketball', 123, 'fox']) ➞ [81, 123]\n",
    "return_only_integer([10, '121', 56, 20, 'car', 3, 'lion']) ➞ [10, 56, 20, 3]\n",
    "return_only_integer(['String', True, 3.3, 1]) ➞ [1]"
   ]
  },
  {
   "cell_type": "code",
   "execution_count": 19,
   "id": "2e99fc9b",
   "metadata": {},
   "outputs": [
    {
     "name": "stdout",
     "output_type": "stream",
     "text": [
      "Enter no. of iterations : 4\n",
      "Enter no. of items in the list : 6\n",
      "9\n",
      "2\n",
      "space\n",
      "car\n",
      "lion\n",
      "16\n",
      "[9, 2, 16]\n",
      "Enter no. of items in the list : 5\n",
      "hello\n",
      "81\n",
      "basketball\n",
      "123\n",
      "fox\n",
      "[81, 123]\n",
      "Enter no. of items in the list : 7\n",
      "10\n",
      "121\n",
      "56\n",
      "20\n",
      "car\n",
      "3\n",
      "lion\n",
      "[10, 121, 56, 20, 3]\n",
      "Enter no. of items in the list : 4\n",
      "String\n",
      "True\n",
      "3.3\n",
      "1\n",
      "[1]\n"
     ]
    }
   ],
   "source": [
    "def return_only_integer(l):\n",
    "    final_list = []\n",
    "    for i in l:\n",
    "        if type(i) == int:\n",
    "            final_list.append(i)\n",
    "    return final_list\n",
    "\n",
    "n = int(input(\"Enter no. of iterations : \"))\n",
    "for j in range(n):\n",
    "    x = int(input(\"Enter no. of items in the list : \"))\n",
    "    l = []\n",
    "    for k in range(x):\n",
    "        k = input(\"\")\n",
    "        try:\n",
    "            l.append(int(k))\n",
    "        except ValueError:\n",
    "            l.append(k)   \n",
    "    print(return_only_integer(l))\n",
    "\n",
    "            "
   ]
  }
 ],
 "metadata": {
  "kernelspec": {
   "display_name": "Python 3 (ipykernel)",
   "language": "python",
   "name": "python3"
  },
  "language_info": {
   "codemirror_mode": {
    "name": "ipython",
    "version": 3
   },
   "file_extension": ".py",
   "mimetype": "text/x-python",
   "name": "python",
   "nbconvert_exporter": "python",
   "pygments_lexer": "ipython3",
   "version": "3.9.7"
  }
 },
 "nbformat": 4,
 "nbformat_minor": 5
}
