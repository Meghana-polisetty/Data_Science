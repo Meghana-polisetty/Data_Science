{
 "cells": [
  {
   "cell_type": "markdown",
   "id": "b121cde2",
   "metadata": {},
   "source": [
    "Question1. Create a function that takes three arguments a, b, c and returns the sum of the\n",
    "numbers that are evenly divided by c from the range a, b inclusive.\n",
    "Examples\n",
    "evenly_divisible(1, 10, 20) ➞ 0\n",
    "##### No number between 1 and 10 can be evenly divided by 20.\n",
    "evenly_divisible(1, 10, 2) ➞ 30\n",
    "##### 2 + 4 + 6 + 8 + 10 = 30\n",
    "evenly_divisible(1, 10, 3) ➞ 18\n",
    "##### 3 + 6 + 9 = 18"
   ]
  },
  {
   "cell_type": "code",
   "execution_count": 24,
   "id": "c2d68633",
   "metadata": {},
   "outputs": [
    {
     "name": "stdout",
     "output_type": "stream",
     "text": [
      "Number of iterations: 3\n",
      "Enter first number1\n",
      "Enter second number10\n",
      "Enter third number20\n",
      "Value of a 1\n",
      "Value of b 10\n",
      "Value of c 20\n",
      "Sum of of numbers that ar divisible by c from the range a,b :  0\n",
      "Enter first number1\n",
      "Enter second number10\n",
      "Enter third number2\n",
      "Value of a 1\n",
      "Value of b 10\n",
      "Value of c 2\n",
      "Sum of of numbers that ar divisible by c from the range a,b :  30\n",
      "Enter first number1\n",
      "Enter second number10\n",
      "Enter third number3\n",
      "Value of a 1\n",
      "Value of b 10\n",
      "Value of c 3\n",
      "Sum of of numbers that ar divisible by c from the range a,b :  18\n"
     ]
    }
   ],
   "source": [
    "def evenly_divisible(a,b,c):\n",
    "    sum = 0\n",
    "    for i in range(a,b+1):\n",
    "        if (i % c == 0):\n",
    "            sum += i\n",
    "    return sum\n",
    "\n",
    "n = int(input(\"Number of iterations: \"))\n",
    "for j in range(n):\n",
    "    a = int(input(\"Enter first number\"))\n",
    "    b = int(input(\"Enter second number\"))\n",
    "    c = int(input(\"Enter third number\"))\n",
    "    print(\"Value of a\",a)\n",
    "    print(\"Value of b\",b)\n",
    "    print(\"Value of c\",c)\n",
    "    print(\"Sum of of numbers that ar divisible by c from the range a,b : \",evenly_divisible(a,b,c))\n",
    "        "
   ]
  },
  {
   "cell_type": "markdown",
   "id": "5f1a9710",
   "metadata": {},
   "source": [
    "Question2. Create a function that returns True if a given inequality expression is correct and\n",
    "False otherwise.\n",
    "Examples\n",
    "correct_signs(&quot;3 &lt; 7 &lt; 11&quot;) ➞ True\n",
    "correct_signs(&quot;13 &gt; 44 &gt; 33 &gt; 1&quot;) ➞ False\n",
    "correct_signs(&quot;1 &lt; 2 &lt; 6 &lt; 9 &gt; 3&quot;) ➞ True"
   ]
  },
  {
   "cell_type": "code",
   "execution_count": 27,
   "id": "efaec9ca",
   "metadata": {},
   "outputs": [
    {
     "name": "stdout",
     "output_type": "stream",
     "text": [
      "3 < 7 < 11 True\n",
      "13 > 44 > 33 > 1 False\n",
      "1 < 2 < 6 < 9 > 2 True\n"
     ]
    }
   ],
   "source": [
    "def correct_signs(s):\n",
    "    regex=eval(s)\n",
    "    if regex:\n",
    "        return True\n",
    "    else:\n",
    "        return False  \n",
    "print(\"3 < 7 < 11\",correct_signs(\"3 < 7 < 11\"))\n",
    "print(\"13 > 44 > 33 > 1\",correct_signs(\"13 > 44 > 33 > 1\"))\n",
    "print(\"1 < 2 < 6 < 9 > 2\",correct_signs(\"1 < 2 < 6 < 9 > 2\"))"
   ]
  },
  {
   "cell_type": "markdown",
   "id": "66947a2a",
   "metadata": {},
   "source": [
    "Question3. Create a function that replaces all the vowels in a string with a specified character.\n",
    "Examples\n",
    "replace_vowels(&quot;the aardvark&quot;, &quot;#&quot;) ➞ &quot;th# ##rdv#rk&quot;\n",
    "replace_vowels(&quot;minnie mouse&quot;, &quot;?&quot;) ➞ &quot;m?nn?? m??s?&quot;\n",
    "replace_vowels(&quot;shakespeare&quot;, &quot;*&quot;) ➞ &quot;sh*k*sp**r*&quot;"
   ]
  },
  {
   "cell_type": "code",
   "execution_count": 31,
   "id": "e628325b",
   "metadata": {},
   "outputs": [
    {
     "name": "stdout",
     "output_type": "stream",
     "text": [
      "Enter no. of iteration3\n",
      "Enter a string : the aardvark\n",
      "Enter a special character to replace the vowels :#\n",
      "th# ##rdv#rk\n",
      "Enter a string : minnie mouse\n",
      "Enter a special character to replace the vowels :?\n",
      "m?nn?? m??s?\n",
      "Enter a string : shakespeare\n",
      "Enter a special character to replace the vowels :*\n",
      "sh*k*sp**r*\n"
     ]
    }
   ],
   "source": [
    "def replace_vowels(string,char):\n",
    "    vowels = 'AEIOUaeiou'\n",
    "    for i in vowels:\n",
    "        string = string.replace(i,char)\n",
    "    return string\n",
    "\n",
    "n = int(input(\"Enter no. of iteration\"))\n",
    "for j in range(n):\n",
    "    string = input(\"Enter a string : \")\n",
    "    char = input(\"Enter a special character to replace the vowels :\")\n",
    "    print(replace_vowels(string,char))\n"
   ]
  },
  {
   "cell_type": "markdown",
   "id": "ca878748",
   "metadata": {},
   "source": [
    "Question4. Write a function that calculates the factorial of a number recursively.\n",
    "Examples\n",
    "factorial(5) ➞ 120\n",
    "factorial(3) ➞ 6\n",
    "factorial(1) ➞ 1\n",
    "factorial(0) ➞ 1"
   ]
  },
  {
   "cell_type": "code",
   "execution_count": 33,
   "id": "670fa6f4",
   "metadata": {},
   "outputs": [
    {
     "name": "stdout",
     "output_type": "stream",
     "text": [
      "Enter no. of iteration4\n",
      "Enter a number : 5\n",
      "120\n",
      "Enter a number : 3\n",
      "6\n",
      "Enter a number : 1\n",
      "1\n",
      "Enter a number : 0\n",
      "1\n"
     ]
    }
   ],
   "source": [
    "def factorial(n):\n",
    "    if n < 1:\n",
    "        return 1\n",
    "    return n * factorial(n-1)\n",
    "\n",
    "x = int(input(\"Enter no. of iteration\"))\n",
    "for j in range(x):\n",
    "    n = int(input(\"Enter a number : \"))\n",
    "    print(factorial(n))"
   ]
  },
  {
   "cell_type": "markdown",
   "id": "3b624896",
   "metadata": {},
   "source": [
    "Question 5\n",
    "Hamming distance is the number of characters that differ between two strings.\n",
    "To illustrate:\n",
    "String1: &quot;abcbba&quot;\n",
    "String2: &quot;abcbda&quot;\n",
    "Hamming Distance: 1 - &quot;b&quot; vs. &quot;d&quot; is the only difference.\n",
    "Create a function that computes the hamming distance between two strings.\n",
    "Examples\n",
    "hamming_distance(&quot;abcde&quot;, &quot;bcdef&quot;) ➞ 5\n",
    "hamming_distance(&quot;abcde&quot;, &quot;abcde&quot;) ➞ 0\n",
    "hamming_distance(&quot;strong&quot;, &quot;strung&quot;) ➞ 1"
   ]
  },
  {
   "cell_type": "code",
   "execution_count": 35,
   "id": "a85868b7",
   "metadata": {},
   "outputs": [
    {
     "name": "stdout",
     "output_type": "stream",
     "text": [
      "Enter no. of iteration3\n",
      "Enter a string 1 : abcde\n",
      "Enter a string 2 : bcdef\n",
      "5\n",
      "Enter a string 1 : abcde\n",
      "Enter a string 2 : abcde\n",
      "0\n",
      "Enter a string 1 : strong\n",
      "Enter a string 2 : strung\n",
      "1\n"
     ]
    }
   ],
   "source": [
    "def hamming_distance(str1, str2):\n",
    "    i = 0\n",
    "    count = 0\n",
    " \n",
    "    while(i < len(str1)):\n",
    "        if(str1[i] != str2[i]):\n",
    "            count += 1\n",
    "        i += 1\n",
    "    return count\n",
    " \n",
    "n = int(input(\"Enter no. of iteration\"))\n",
    "for j in range(n):\n",
    "    str1 = input(\"Enter a string 1 : \")\n",
    "    str2 = input(\"Enter a string 2 : \")\n",
    "    print(hamming_distance(str1, str2))"
   ]
  },
  {
   "cell_type": "code",
   "execution_count": null,
   "id": "4d71a31a",
   "metadata": {},
   "outputs": [],
   "source": []
  }
 ],
 "metadata": {
  "kernelspec": {
   "display_name": "Python 3 (ipykernel)",
   "language": "python",
   "name": "python3"
  },
  "language_info": {
   "codemirror_mode": {
    "name": "ipython",
    "version": 3
   },
   "file_extension": ".py",
   "mimetype": "text/x-python",
   "name": "python",
   "nbconvert_exporter": "python",
   "pygments_lexer": "ipython3",
   "version": "3.9.7"
  }
 },
 "nbformat": 4,
 "nbformat_minor": 5
}
