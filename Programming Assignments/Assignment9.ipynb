{
 "cells": [
  {
   "cell_type": "code",
   "execution_count": 60,
   "id": "2585fa1a",
   "metadata": {},
   "outputs": [
    {
     "data": {
      "text/plain": [
       "2"
      ]
     },
     "execution_count": 60,
     "metadata": {},
     "output_type": "execute_result"
    }
   ],
   "source": [
    "#To get the quitient value \n",
    "number = 24\n",
    "number = number // 10\n",
    "number"
   ]
  },
  {
   "cell_type": "code",
   "execution_count": 65,
   "id": "246e395e",
   "metadata": {},
   "outputs": [
    {
     "name": "stdout",
     "output_type": "stream",
     "text": [
      "Enter the number to check if Disarium Number :175\n",
      "Sum of digits =  175.0\n",
      "Disarium Number\n"
     ]
    }
   ],
   "source": [
    "#To check if the number is disarium number\n",
    "#sum of the digits raised to the power of their respective positions become equal to the number itself\n",
    "\n",
    "import math\n",
    "\n",
    "def digitCount(number):\n",
    "    length = 0\n",
    "    while number !=0:\n",
    "        length = length + 1\n",
    "        number = number //10 #gives the quotient of the number\n",
    "    return length\n",
    "\n",
    "def digitSum(number,length):\n",
    "    Sum = 0\n",
    "    rem = 0\n",
    "    \n",
    "    while number > 0:\n",
    "        rem = number%10\n",
    "        Sum = Sum + math.pow(rem,length)\n",
    "        number = number//10\n",
    "        length = length - 1\n",
    "    return Sum\n",
    "\n",
    "number = int(input(\"Enter the number to check if Disarium Number :\"))\n",
    "length = digitCount(number)\n",
    "Sum = digitSum(number,length)\n",
    "\n",
    "print (\"Sum of digits = \",Sum)\n",
    "\n",
    "if Sum == number:\n",
    "    print (\"Disarium Number\")\n",
    "else :\n",
    "    print(\"Not a Disarium Number\")\n",
    "\n",
    "    "
   ]
  },
  {
   "cell_type": "code",
   "execution_count": 82,
   "id": "65f84b6c",
   "metadata": {},
   "outputs": [
    {
     "name": "stdout",
     "output_type": "stream",
     "text": [
      "Enter a lower limit number :1\n",
      "Enter an upper limit number :100\n",
      "1\n",
      "2\n",
      "3\n",
      "4\n",
      "5\n",
      "6\n",
      "7\n",
      "8\n",
      "9\n",
      "89\n"
     ]
    }
   ],
   "source": [
    "#To print all the Disarium numbers between a lower limit to upper limit\n",
    "\n",
    "import math\n",
    "\n",
    "def digitCount(number):\n",
    "    length = 0\n",
    "    while number !=0:\n",
    "        length = length + 1\n",
    "        number = number //10 #gives the quotient of the number\n",
    "    return length\n",
    "\n",
    "def digitSum(number):\n",
    "    Sum = 0\n",
    "    rem = 0\n",
    "    length = digitCount(number)\n",
    "    while number > 0:\n",
    "        rem = number%10\n",
    "        Sum = Sum + math.pow(rem,length)\n",
    "        number = number//10\n",
    "        length = length - 1\n",
    "    return Sum\n",
    "\n",
    "l = int(input(\"Enter a lower limit number :\"))\n",
    "u = int(input(\"Enter an upper limit number :\"))\n",
    "\n",
    "result = 0\n",
    " \n",
    "for i in range(l, u):  \n",
    "    result = digitSum(i)\n",
    "      \n",
    "    if(result == i):  \n",
    "        print(i) "
   ]
  },
  {
   "cell_type": "code",
   "execution_count": 74,
   "id": "f88ce7c7",
   "metadata": {},
   "outputs": [
    {
     "name": "stdout",
     "output_type": "stream",
     "text": [
      "Enter a number to check if it is a happy number82\n",
      "Happy Number\n"
     ]
    }
   ],
   "source": [
    "#Happy number \n",
    "#Happy number should yield a final result 1, when replaced by the sum of the squares of the digits repeatedly\n",
    "\n",
    "def ishappynum(num):\n",
    "    rem =0\n",
    "    Sum =0\n",
    "    \n",
    "    while num > 0:\n",
    "        rem = num%10\n",
    "        Sum = Sum + (rem*rem)\n",
    "        num = num//10\n",
    "    return Sum \n",
    "\n",
    "num = int(input(\"Enter a number to check if it is a happy number\"))\n",
    "result = num\n",
    "\n",
    "while(result != 1 and result !=4):\n",
    "    result = ishappynum(result)\n",
    "if result == 1:\n",
    "    print(\"Happy Number\")\n",
    "elif result == 4:\n",
    "    print(\"Not a happy number\")"
   ]
  },
  {
   "cell_type": "code",
   "execution_count": 83,
   "id": "9606adee",
   "metadata": {},
   "outputs": [
    {
     "name": "stdout",
     "output_type": "stream",
     "text": [
      "Enter a lower limit number :1\n",
      "Enter an upper limit number :100\n",
      "1\n",
      "7\n",
      "10\n",
      "13\n",
      "19\n",
      "23\n",
      "28\n",
      "31\n",
      "32\n",
      "44\n",
      "49\n",
      "68\n",
      "70\n",
      "79\n",
      "82\n",
      "86\n",
      "91\n",
      "94\n",
      "97\n"
     ]
    }
   ],
   "source": [
    "#Happy number from a lower limit to upper limit\n",
    "\n",
    "def ishappynum(num):\n",
    "    rem =0\n",
    "    Sum =0\n",
    "    \n",
    "    while num > 0:\n",
    "        rem = num%10\n",
    "        Sum = Sum + (rem*rem)\n",
    "        num = num//10\n",
    "    return Sum \n",
    "\n",
    "l = int(input(\"Enter a lower limit number :\"))\n",
    "u = int(input(\"Enter an upper limit number :\"))\n",
    "\n",
    "for i in range(l, u):    \n",
    "    result = i     \n",
    "    while(result != 1 and result != 4):    \n",
    "        result = ishappynum(result);           \n",
    "    if(result == 1):    \n",
    "        print(i)"
   ]
  },
  {
   "cell_type": "code",
   "execution_count": 85,
   "id": "ba401d57",
   "metadata": {},
   "outputs": [
    {
     "name": "stdout",
     "output_type": "stream",
     "text": [
      "Enter a number to check if Harshad number?156\n",
      "Harshad Number\n"
     ]
    }
   ],
   "source": [
    "#Harshad number \n",
    "#Number divisible by sum of its digits\n",
    "\n",
    "num = int(input(\"Enter a number to check if Harshad number?\"))\n",
    "\n",
    "n = num\n",
    "rem = Sum =0\n",
    "\n",
    "while num > 0:\n",
    "    rem = num%10\n",
    "    Sum = Sum + rem\n",
    "    num = num//10\n",
    "    \n",
    "if (n%Sum ==0):\n",
    "    print(\"Harshad Number\")\n",
    "    \n",
    "else :\n",
    "    print(\"Not a Harshad Number\")\n",
    "    "
   ]
  },
  {
   "cell_type": "code",
   "execution_count": 95,
   "id": "2a513f27",
   "metadata": {},
   "outputs": [
    {
     "name": "stdout",
     "output_type": "stream",
     "text": [
      "Enter a lower limit number :1\n",
      "Enter an upper limit number :100\n",
      "2\n",
      "6\n",
      "12\n",
      "20\n",
      "30\n",
      "42\n",
      "56\n",
      "72\n",
      "90\n"
     ]
    }
   ],
   "source": [
    "#Pronic numbers between lower limit and upper limit range\n",
    "#product of two consecutive integers of the form n(n+1)\n",
    "\n",
    "def isPronic(num):\n",
    "    flag = False\n",
    "    for j in range(1,num+1):\n",
    "        if ((j*(j+1))==num):\n",
    "            flag = True\n",
    "            break\n",
    "    return flag\n",
    "\n",
    "l = int(input(\"Enter a lower limit number :\"))\n",
    "u = int(input(\"Enter an upper limit number :\"))\n",
    "\n",
    "for i in range(l,u):\n",
    "    if(isPronic(i)):\n",
    "        print(i)\n"
   ]
  }
 ],
 "metadata": {
  "kernelspec": {
   "display_name": "Python 3 (ipykernel)",
   "language": "python",
   "name": "python3"
  },
  "language_info": {
   "codemirror_mode": {
    "name": "ipython",
    "version": 3
   },
   "file_extension": ".py",
   "mimetype": "text/x-python",
   "name": "python",
   "nbconvert_exporter": "python",
   "pygments_lexer": "ipython3",
   "version": "3.9.7"
  }
 },
 "nbformat": 4,
 "nbformat_minor": 5
}
