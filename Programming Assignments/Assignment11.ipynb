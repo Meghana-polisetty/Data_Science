{
 "cells": [
  {
   "cell_type": "code",
   "execution_count": 4,
   "id": "38f86a18",
   "metadata": {},
   "outputs": [
    {
     "name": "stdout",
     "output_type": "stream",
     "text": [
      "Enter the value for k : 3\n",
      "Enter a stringhi my name is meghana\n",
      "Words which are greater than given length of K are :  ['name', 'meghana']\n"
     ]
    }
   ],
   "source": [
    "#To find words which are greater than given length k\n",
    "\n",
    "def stringk(str, k):\n",
    "    string = []\n",
    "    text = str.split(\" \")\n",
    "    for x in text:\n",
    "        if len(x) > k:\n",
    "            string.append(x)\n",
    "    return string\n",
    "\n",
    "k = int(input(\"Enter the value for k : \"))\n",
    "str = input(\"Enter a string\")\n",
    "\n",
    "print(\"Words which are greater than given length of K are : \", stringk(str,k))"
   ]
  },
  {
   "cell_type": "code",
   "execution_count": 5,
   "id": "8fa6d1e8",
   "metadata": {},
   "outputs": [
    {
     "name": "stdout",
     "output_type": "stream",
     "text": [
      "Enter the value for ith position : 3\n",
      "Enter a stringmeghana\n",
      "String before ith character removal : meghana\n",
      "\n",
      "String after ith character removal : megana\n"
     ]
    }
   ],
   "source": [
    "#For removing i-th character from a string\n",
    "#m e g h a n a\n",
    "#0 1 2 3 4 5 6 , indexing always starts from 0\n",
    "\n",
    "def remove(string,i):\n",
    "    for j in range(len(string)):\n",
    "        if j == i:\n",
    "            string = string.replace(string[i],\"\",1) #string.replace(old, new, count=-1, /)\n",
    "    return string\n",
    "\n",
    "i = int(input(\"Enter the value for ith position : \"))\n",
    "string = input(\"Enter a string\")\n",
    "\n",
    "print(\"String before ith character removal :\", string)\n",
    "print(\"\")\n",
    "print(\"String after ith character removal :\",remove(string,i))\n",
    "    "
   ]
  },
  {
   "cell_type": "code",
   "execution_count": 13,
   "id": "0b7a16a0",
   "metadata": {},
   "outputs": [
    {
     "name": "stdout",
     "output_type": "stream",
     "text": [
      "Enter a string :meghana is great!\n",
      "String splitting : ['meghana', 'is', 'great!']\n",
      "\n",
      "String joining : m-e-g-h-a-n-a- -i-s- -g-r-e-a-t-!\n"
     ]
    }
   ],
   "source": [
    "#Program to split and join a string\n",
    "\n",
    "def splitstring(string):\n",
    "    string1 = string.split(' ')\n",
    "    return string1\n",
    "\n",
    "def join_string(string1):\n",
    "    string2 = '-'.join(string1)     \n",
    "    return string2\n",
    "\n",
    "string = input(\"Enter a string :\" )\n",
    "print(\"String splitting :\", splitstring(string))\n",
    "print(\"\")\n",
    "new_string = joinstring(string)\n",
    "print(\"String joining :\",new_string)"
   ]
  },
  {
   "cell_type": "code",
   "execution_count": 17,
   "id": "47e82231",
   "metadata": {},
   "outputs": [
    {
     "name": "stdout",
     "output_type": "stream",
     "text": [
      "Enter a string :010101110\n",
      "yes, string is binary\n"
     ]
    }
   ],
   "source": [
    "#To check if a given string is binary or not\n",
    "\n",
    "def check(string):\n",
    "    a = set(string) # converts set into iterable object, converts into set of characters\n",
    "    #no need of range, for loop here, because set itself acts as a iterable object\n",
    "    b = {'0','1'} #set of 0s and 1s , to check binary\n",
    "    \n",
    "    if a == b or a == {'0'} or a == {'1'}:\n",
    "        print (\"yes, string is binary\")\n",
    "    else :\n",
    "        print (\"No string is not binary\")\n",
    "\n",
    "string = input(\"Enter a string :\" )\n",
    "check(string)"
   ]
  },
  {
   "cell_type": "code",
   "execution_count": 19,
   "id": "6e89d237",
   "metadata": {},
   "outputs": [
    {
     "name": "stdout",
     "output_type": "stream",
     "text": [
      "Enter a string 1 :mango banana apple\n",
      "Enter a string 2 :banana fruits apple\n",
      "Uncommon words in two strings :  ['mango', 'fruits']\n"
     ]
    }
   ],
   "source": [
    "#To find uncommon words in two strings\n",
    "\n",
    "def uncommonwords(a,b):\n",
    "    l_a = a.split()\n",
    "    l_b = b.split()\n",
    "    uncommon = []\n",
    "    \n",
    "    for i in l_a:\n",
    "        if i not in l_b:\n",
    "            uncommon.append(i)\n",
    "    for j in l_b:\n",
    "        if j not in l_a:\n",
    "            uncommon.append(j)\n",
    "            \n",
    "    return uncommon\n",
    "\n",
    "a = input(\"Enter a string 1 :\" )\n",
    "b = input(\"Enter a string 2 :\" )\n",
    "\n",
    "print(\"Uncommon words in two strings : \", uncommonwords(a,b))"
   ]
  },
  {
   "cell_type": "code",
   "execution_count": 24,
   "id": "4f6a53a8",
   "metadata": {},
   "outputs": [
    {
     "name": "stdout",
     "output_type": "stream",
     "text": [
      "Enter a string :meghana\n",
      "Duplicate characters in a string :  ['a']\n"
     ]
    }
   ],
   "source": [
    "#Duplicate characters in a string\n",
    "\n",
    "def duplicate(string):\n",
    "    duplicate = []\n",
    "    \n",
    "    for i in string:\n",
    "        if string.count(i) > 1:\n",
    "            if i not in duplicate: \n",
    "    #we need to add duplicate character in the list only once, not how many ever times it is present in the string\n",
    "                duplicate.append(i)\n",
    "    return duplicate\n",
    "\n",
    "string = input(\"Enter a string :\" )\n",
    "print(\"Duplicate characters in a string : \", duplicate(string))"
   ]
  },
  {
   "cell_type": "code",
   "execution_count": 26,
   "id": "b8ff846f",
   "metadata": {},
   "outputs": [
    {
     "name": "stdout",
     "output_type": "stream",
     "text": [
      "Enter a string :meg#ana\n",
      "String contains special characters\n"
     ]
    }
   ],
   "source": [
    "#To check if a string contains any special character\n",
    "\n",
    "def specialchar(string):\n",
    "    count = 0\n",
    "    s = '[@_!#$%^&*()<>?/\\|}{~:]' #define a set for special characters\n",
    "    for i in range(len(string)):\n",
    "        if string[i] in s:\n",
    "            count = count + 1\n",
    "    if count:\n",
    "        print(\"String contains special characters\")\n",
    "    else :\n",
    "        print(\"String does not contain special characters\")\n",
    "\n",
    "string = input(\"Enter a string :\" )\n",
    "specialchar(string)"
   ]
  }
 ],
 "metadata": {
  "kernelspec": {
   "display_name": "Python 3 (ipykernel)",
   "language": "python",
   "name": "python3"
  },
  "language_info": {
   "codemirror_mode": {
    "name": "ipython",
    "version": 3
   },
   "file_extension": ".py",
   "mimetype": "text/x-python",
   "name": "python",
   "nbconvert_exporter": "python",
   "pygments_lexer": "ipython3",
   "version": "3.9.7"
  }
 },
 "nbformat": 4,
 "nbformat_minor": 5
}
