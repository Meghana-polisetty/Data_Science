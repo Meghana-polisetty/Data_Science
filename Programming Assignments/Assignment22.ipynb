{
 "cells": [
  {
   "cell_type": "markdown",
   "id": "016aa6bf",
   "metadata": {},
   "source": [
    "Question1\n",
    "Create a function that takes three parameters where:\n",
    " x is the start of the range (inclusive).\n",
    " y is the end of the range (inclusive).\n",
    " n is the divisor to be checked against.\n",
    "Return an ordered list with numbers in the range that are divisible by the third parameter n.\n",
    "Return an empty list if there are no numbers that are divisible by n.\n",
    "Examples\n",
    "list_operation(1, 10, 3) ➞ [3, 6, 9]\n",
    "list_operation(7, 9, 2) ➞ [8]\n",
    "list_operation(15, 20, 7) ➞ []"
   ]
  },
  {
   "cell_type": "code",
   "execution_count": 2,
   "id": "86bda851",
   "metadata": {},
   "outputs": [
    {
     "name": "stdout",
     "output_type": "stream",
     "text": [
      "Enter no. of iterations : 3\n",
      "Enter a number for starting range : 1\n",
      "Enter a number for ending range : 10\n",
      "Enter a number for divisor to be checked against : 3\n",
      "[3, 6, 9]\n",
      "Enter a number for starting range : 7\n",
      "Enter a number for ending range : 9\n",
      "Enter a number for divisor to be checked against : 2\n",
      "[8]\n",
      "Enter a number for starting range : 15\n",
      "Enter a number for ending range : 20\n",
      "Enter a number for divisor to be checked against : 7\n",
      "[]\n"
     ]
    }
   ],
   "source": [
    "def lis_operation(x,y,n):\n",
    "    final_list = []\n",
    "    for i in range(x,y+1):\n",
    "        if i % n == 0:\n",
    "            final_list.append(i)\n",
    "    return final_list\n",
    "\n",
    "\n",
    "a = int(input(\"Enter no. of iterations : \"))\n",
    "for j in range(a) :\n",
    "    x = int(input(\"Enter a number for starting range : \"))\n",
    "    y = int(input(\"Enter a number for ending range : \"))\n",
    "    n = int(input(\"Enter a number for divisor to be checked against : \"))\n",
    "    print(lis_operation(x,y,n))"
   ]
  },
  {
   "cell_type": "markdown",
   "id": "79574f76",
   "metadata": {},
   "source": [
    "Question2\n",
    "Create a function that takes in two lists and returns True if the second list follows the first list\n",
    "by one element, and False otherwise. In other words, determine if the second list is the first\n",
    "list shifted to the right by 1.\n",
    "Examples\n",
    "simon_says([1, 2], [5, 1]) ➞ True\n",
    "simon_says([1, 2], [5, 5]) ➞ False\n",
    "simon_says([1, 2, 3, 4, 5], [0, 1, 2, 3, 4]) ➞ True\n",
    "simon_says([1, 2, 3, 4, 5], [5, 5, 1, 2, 3]) ➞ False\n",
    "Notes\n",
    " Both input lists will be of the same length, and will have a minimum length of 2.\n",
    " The values of the 0-indexed element in the second list and the n-1th indexed element\n",
    "in the first list do not matter."
   ]
  },
  {
   "cell_type": "code",
   "execution_count": 20,
   "id": "fb306927",
   "metadata": {},
   "outputs": [
    {
     "name": "stdout",
     "output_type": "stream",
     "text": [
      "Enter no.of items in list1 : 5\n",
      "1\n",
      "2\n",
      "3\n",
      "4\n",
      "5\n",
      "[1, 2, 3, 4, 5]\n",
      "Enter no. of items in list2 : 5\n",
      "5\n",
      "5\n",
      "1\n",
      "2\n",
      "3\n",
      "[5, 5, 1, 2, 3]\n",
      "[1, 2, 3, 4, 5] [5, 5, 1, 2, 3]\n",
      "False\n"
     ]
    }
   ],
   "source": [
    "def simon_says(list1,list2):\n",
    "    if list1[0:len(list1)-1] == list2[1:len(list2)]:\n",
    "        return True\n",
    "    return False\n",
    "\n",
    "list1 = []\n",
    "list2 = []\n",
    "x1 = int(input(\"Enter no.of items in list1 : \"))\n",
    "for j in range(x1):\n",
    "    ele = int(input())\n",
    "    list1.append(ele)\n",
    "print(list1)\n",
    "x2 = int(input(\"Enter no. of items in list2 : \"))\n",
    "for k in range(x2):\n",
    "    ele1 = int(input())\n",
    "    list2.append(ele1)\n",
    "print(list2)\n",
    "print(list1,list2)\n",
    "print(simon_says(list1,list2))    \n",
    "        "
   ]
  },
  {
   "cell_type": "code",
   "execution_count": 22,
   "id": "a9a9c167",
   "metadata": {},
   "outputs": [
    {
     "data": {
      "text/plain": [
       "True"
      ]
     },
     "execution_count": 22,
     "metadata": {},
     "output_type": "execute_result"
    }
   ],
   "source": [
    "simon_says([1, 2], [5, 1])"
   ]
  },
  {
   "cell_type": "code",
   "execution_count": 23,
   "id": "e3e02ae9",
   "metadata": {},
   "outputs": [
    {
     "data": {
      "text/plain": [
       "False"
      ]
     },
     "execution_count": 23,
     "metadata": {},
     "output_type": "execute_result"
    }
   ],
   "source": [
    "simon_says([1, 2], [5, 5])"
   ]
  },
  {
   "cell_type": "code",
   "execution_count": 24,
   "id": "8f0b03de",
   "metadata": {},
   "outputs": [
    {
     "data": {
      "text/plain": [
       "True"
      ]
     },
     "execution_count": 24,
     "metadata": {},
     "output_type": "execute_result"
    }
   ],
   "source": [
    "simon_says([1, 2, 3, 4, 5], [0, 1, 2, 3, 4]) "
   ]
  },
  {
   "cell_type": "markdown",
   "id": "759e0490",
   "metadata": {},
   "source": [
    "Question3\n",
    "A group of friends have decided to start a secret society. The name will be the first letter of\n",
    "each of their names, sorted in alphabetical order.\n",
    "Create a function that takes in a list of names and returns the name of the secret society.\n",
    "\n",
    "Examples\n",
    "society_name([&quot;Adam&quot;, &quot;Sarah&quot;, &quot;Malcolm&quot;]) ➞ &quot;AMS&quot;\n",
    "society_name([&quot;Harry&quot;, &quot;Newt&quot;, &quot;Luna&quot;, &quot;Cho&quot;]) ➞ &quot;CHLN&quot;\n",
    "society_name([&quot;Phoebe&quot;, &quot;Chandler&quot;, &quot;Rachel&quot;, &quot;Ross&quot;, &quot;Monica&quot;, &quot;Joey&quot;])"
   ]
  },
  {
   "cell_type": "code",
   "execution_count": 37,
   "id": "8df18547",
   "metadata": {},
   "outputs": [],
   "source": [
    "def society_name(list1):\n",
    "    return ''.join([i[0] for i in sorted(list1)])"
   ]
  },
  {
   "cell_type": "code",
   "execution_count": 38,
   "id": "a9f160c5",
   "metadata": {},
   "outputs": [
    {
     "data": {
      "text/plain": [
       "'AMS'"
      ]
     },
     "execution_count": 38,
     "metadata": {},
     "output_type": "execute_result"
    }
   ],
   "source": [
    "society_name([\"Adam\", \"Sarah\", \"Malcolm\"])"
   ]
  },
  {
   "cell_type": "code",
   "execution_count": 39,
   "id": "70a0ceea",
   "metadata": {},
   "outputs": [
    {
     "data": {
      "text/plain": [
       "'CHLN'"
      ]
     },
     "execution_count": 39,
     "metadata": {},
     "output_type": "execute_result"
    }
   ],
   "source": [
    "society_name([\"Harry\", \"Newt\", \"Luna\", \"Cho\"])"
   ]
  },
  {
   "cell_type": "code",
   "execution_count": 40,
   "id": "f7424799",
   "metadata": {},
   "outputs": [
    {
     "data": {
      "text/plain": [
       "'CJMPRR'"
      ]
     },
     "execution_count": 40,
     "metadata": {},
     "output_type": "execute_result"
    }
   ],
   "source": [
    "society_name([\"Phoebe\", \"Chandler\", \"Rachel\", \"Ross\", \"Monica\", \"Joey\"])"
   ]
  },
  {
   "cell_type": "markdown",
   "id": "fba711e7",
   "metadata": {},
   "source": [
    "Question4\n",
    "An isogram is a word that has no duplicate letters. Create a function that takes a string and\n",
    "returns either True or False depending on whether or not it&#39;s an &quot;isogram&quot;.\n",
    "Examples\n",
    "is_isogram(&quot;Algorism&quot;) ➞ True\n",
    "is_isogram(&quot;PasSword&quot;) ➞ False\n",
    "##### Not case sensitive.\n",
    "is_isogram(&quot;Consecutive&quot;) ➞ False\n",
    "Notes\n",
    " Ignore letter case (should not be case sensitive).\n",
    " All test cases contain valid one word strings."
   ]
  },
  {
   "cell_type": "code",
   "execution_count": 47,
   "id": "85f39b8c",
   "metadata": {},
   "outputs": [
    {
     "name": "stdout",
     "output_type": "stream",
     "text": [
      "Enter a string : Algorism\n",
      "True\n",
      "Enter a string : PasSword\n",
      "False\n",
      "Enter a string : Consecutive\n",
      "False\n"
     ]
    }
   ],
   "source": [
    "def is_isogram(string):\n",
    "    \n",
    "    for i in range(len(string)):\n",
    "        if string.lower().count(string[i]) > 1: \n",
    "            #used lower() method to first convert all the characters into lower case and then compare the count\n",
    "            return False\n",
    "        \n",
    "    else:\n",
    "        return True\n",
    "N = 3\n",
    "for j in range(N):\n",
    "    string = input(\"Enter a string : \")\n",
    "    print(is_isogram(string))"
   ]
  },
  {
   "cell_type": "markdown",
   "id": "311656e9",
   "metadata": {},
   "source": [
    "Question5\n",
    "Create a function that takes a string and returns True or False, depending on whether the\n",
    "characters are in order or not.\n",
    "Examples\n",
    "is_in_order(&quot;abc&quot;) ➞ True\n",
    "is_in_order(&quot;edabit&quot;) ➞ False\n",
    "is_in_order(&quot;123&quot;) ➞ True\n",
    "is_in_order(&quot;xyzz&quot;) ➞ True\n",
    "Notes\n",
    "You don&#39;t have to handle empty strings."
   ]
  },
  {
   "cell_type": "code",
   "execution_count": 49,
   "id": "568bbfc9",
   "metadata": {},
   "outputs": [
    {
     "name": "stdout",
     "output_type": "stream",
     "text": [
      "Enter a string : abc\n",
      "True\n",
      "Enter a string : edabit\n",
      "False\n",
      "Enter a string : 123\n",
      "True\n",
      "Enter a string : xyzz\n",
      "True\n"
     ]
    }
   ],
   "source": [
    "def is_in_order(s):  \n",
    "    # length of the string\n",
    "    n = len(s)\n",
    "    # create a character array of the length of the string\n",
    "    c = [s[i] for i in range(len(s))]\n",
    "    # sort the character array\n",
    "    c.sort(reverse = False)\n",
    "    # check if the character array is equal to the string or not\n",
    "    for i in range(n):\n",
    "        if (c[i] != s[i]):\n",
    "            return False\n",
    "    return True\n",
    "\n",
    "N = 4\n",
    "for j in range(N):\n",
    "    s = input(\"Enter a string : \")\n",
    "    print(is_in_order(s))\n",
    "    "
   ]
  }
 ],
 "metadata": {
  "kernelspec": {
   "display_name": "Python 3 (ipykernel)",
   "language": "python",
   "name": "python3"
  },
  "language_info": {
   "codemirror_mode": {
    "name": "ipython",
    "version": 3
   },
   "file_extension": ".py",
   "mimetype": "text/x-python",
   "name": "python",
   "nbconvert_exporter": "python",
   "pygments_lexer": "ipython3",
   "version": "3.9.7"
  }
 },
 "nbformat": 4,
 "nbformat_minor": 5
}
