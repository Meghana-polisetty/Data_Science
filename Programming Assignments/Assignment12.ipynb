{
 "cells": [
  {
   "cell_type": "code",
   "execution_count": 2,
   "id": "fdc27496",
   "metadata": {},
   "outputs": [
    {
     "name": "stdout",
     "output_type": "stream",
     "text": [
      "unique value from dictionry values are : {1, 2, 5, 7, 8, 10}\n"
     ]
    }
   ],
   "source": [
    "#Extract unique values from dictionary values\n",
    "\n",
    "dict1 = {'a' : [1, 2, 7, 8],\n",
    "             'b' : [1, 10, 10, 5],\n",
    "             'c' : [1, 7, 10, 8],\n",
    "             'd' : [1, 2,5 ,5]}\n",
    "    \n",
    "#s = set([ele for val in test_dict.values() for ele in val])\n",
    "\n",
    "s = set() #to extract unique values from the dict1\n",
    "for val in dict1.values():\n",
    "    for ele in val:\n",
    "        s.add(ele)\n",
    "        \n",
    "print(\"unique value from dictionry values are : {}\".format(s))"
   ]
  },
  {
   "cell_type": "code",
   "execution_count": 3,
   "id": "f1bd51b8",
   "metadata": {},
   "outputs": [
    {
     "name": "stdout",
     "output_type": "stream",
     "text": [
      "Sun of all items is : 886\n"
     ]
    }
   ],
   "source": [
    "#sum of all items in dictionary \n",
    "dict1 = {'a' : 51,\n",
    "             'b' :  62,\n",
    "             'c' : 73,\n",
    "             'd' : 84}\n",
    "\n",
    "sum = 0\n",
    "for i in dict1.values():\n",
    "    sum +=sum + i\n",
    "print(\"Sun of all items is : {}\".format(sum))"
   ]
  },
  {
   "cell_type": "code",
   "execution_count": 9,
   "id": "eb60c6d4",
   "metadata": {},
   "outputs": [
    {
     "name": "stdout",
     "output_type": "stream",
     "text": [
      "Dictionary 1 :  {'x': 50, 'y': 60}\n",
      "Dictionary 2 :  {'y': 60, 'z': 70}\n",
      "updated dictionary : {'x': 50, 'y': 60, 'z': 70}\n"
     ]
    }
   ],
   "source": [
    "#Merging two dictionaries\n",
    "\n",
    "dict1 = { 'x': 50, 'y': 60}\n",
    "dict2 = { 'y': 60, 'z': 70}\n",
    "dict3 = dict1.copy()\n",
    "dict3.update(dict2)\n",
    "print(\"Dictionary 1 : \", dict1)\n",
    "print(\"Dictionary 2 : \", dict2)\n",
    "print('updated dictionary : {}'.format(dict3))"
   ]
  },
  {
   "cell_type": "code",
   "execution_count": 10,
   "id": "c779b157",
   "metadata": {},
   "outputs": [
    {
     "name": "stdout",
     "output_type": "stream",
     "text": [
      "The original dictionary is : {'month': [1, 2, 3], 'name': ['Jan', 'Feb', 'March']}\n",
      "Flattened dictionary : {1: 'Jan', 2: 'Feb', 3: 'March'}\n"
     ]
    }
   ],
   "source": [
    "#Converting key-values list to flat dictionary\n",
    "#When it is required to convert a dictionary, that contains pairs of key values into a flat list, \n",
    "#dictionary comprehension can be used. It iterates through the dictionary and zips them using the 'zip' method. \n",
    "#The zip method takes iterables, aggregates them into a tuple, and returns it as the result.\n",
    "\n",
    "dict1 = {'month' : [1, 2, 3],\n",
    "             'name' : ['Jan', 'Feb', 'March']}\n",
    "  \n",
    "# printing original dictionary\n",
    "print(\"The original dictionary is : \" + str(dict1))\n",
    "  \n",
    "# Convert key-values list to flat dictionary\n",
    "# Using dict() + zip()\n",
    "res = dict(zip(dict1['month'], dict1['name']))\n",
    "  \n",
    "# printing result \n",
    "print(\"Flattened dictionary : \" + str(res)) "
   ]
  },
  {
   "cell_type": "code",
   "execution_count": 11,
   "id": "c7287e22",
   "metadata": {},
   "outputs": [
    {
     "name": "stdout",
     "output_type": "stream",
     "text": [
      "Ordered Dictionary after insertion : OrderedDict([('Jan', '1'), ('Feb', '2'), ('Mar', '3')])\n"
     ]
    }
   ],
   "source": [
    "#Insertion at the beginning in OrderedDict\n",
    "\n",
    "from collections import OrderedDict\n",
    "  \n",
    "# initialising ordered_dict\n",
    "iniordered_dict = OrderedDict([('Feb', '2'), ('Mar', '3')])\n",
    "  \n",
    "# inserting items in starting of dict \n",
    "iniordered_dict.update({'Jan':'1'})\n",
    "iniordered_dict.move_to_end('Jan', last = False)\n",
    "  \n",
    "# print result\n",
    "print (\"Ordered Dictionary after insertion : \"+str(iniordered_dict))"
   ]
  },
  {
   "cell_type": "code",
   "execution_count": 13,
   "id": "d454a765",
   "metadata": {},
   "outputs": [
    {
     "name": "stdout",
     "output_type": "stream",
     "text": [
      "enter string : engineers rock\n",
      "Enter Pattern : er\n",
      "Pattern matched\n"
     ]
    }
   ],
   "source": [
    "#Order of character in string using OrderedDict()\n",
    "\n",
    "from collections import OrderedDict \n",
    "  \n",
    "def checkOrderofString(string, pattern): \n",
    "      \n",
    "    # create empty OrderedDict \n",
    "    # output will be like {'a': None,'b': None, 'c': None} \n",
    "    dict = OrderedDict.fromkeys(string) \n",
    "  \n",
    "    # traverse generated OrderedDict parallel with \n",
    "    # pattern string to check if order of characters \n",
    "    # are same or not \n",
    "    ptrlen = 0\n",
    "    for key,value in dict.items(): \n",
    "        if (key == pattern[ptrlen]): \n",
    "            ptrlen = ptrlen + 1\n",
    "          \n",
    "        # check if we have traverse complete \n",
    "        # pattern string \n",
    "        if (ptrlen == (len(pattern))): \n",
    "            return 'true'\n",
    "  \n",
    "    # if we come out from for loop that means \n",
    "    # order was mismatched \n",
    "    return 'false'\n",
    "\n",
    "string = input(\"enter string : \")\n",
    "pattern = input(\"Enter Pattern : \")\n",
    "if checkOrderofString(string,pattern):\n",
    "    print(\"Pattern matched\")\n",
    "else:\n",
    "    print(\"Pattern not matched\")"
   ]
  },
  {
   "cell_type": "code",
   "execution_count": 8,
   "id": "b2e2308e",
   "metadata": {},
   "outputs": [
    {
     "name": "stdout",
     "output_type": "stream",
     "text": [
      "Sort of Keys :  ['a', 'b', 'c', 'd']\n",
      "Sort of items :  [('a', [1, 2, 7, 8]), ('b', [1, 10, 10, 5]), ('c', [1, 7, 10, 8]), ('d', [1, 2, 5, 5])]\n",
      "Sort of values :  [[1, 2, 5, 5], [1, 2, 7, 8], [1, 7, 10, 8], [1, 10, 10, 5]]\n"
     ]
    }
   ],
   "source": [
    "#Sorting Python Dictionaries by Key or Value\n",
    "\n",
    "dict1 = {'a' : [1, 2, 7, 8],\n",
    "             'b' : [1, 10, 10, 5],\n",
    "             'c' : [1, 7, 10, 8],\n",
    "             'd' : [1, 2,5 ,5]}\n",
    "\n",
    "\n",
    "print(\"Sort of Keys : \",sorted(dict1.keys()))\n",
    "\n",
    "print(\"Sort of items : \",sorted(dict1.items()))\n",
    "\n",
    "print(\"Sort of values : \",sorted(dict1.values()))\n"
   ]
  }
 ],
 "metadata": {
  "kernelspec": {
   "display_name": "Python 3 (ipykernel)",
   "language": "python",
   "name": "python3"
  },
  "language_info": {
   "codemirror_mode": {
    "name": "ipython",
    "version": 3
   },
   "file_extension": ".py",
   "mimetype": "text/x-python",
   "name": "python",
   "nbconvert_exporter": "python",
   "pygments_lexer": "ipython3",
   "version": "3.9.7"
  }
 },
 "nbformat": 4,
 "nbformat_minor": 5
}
