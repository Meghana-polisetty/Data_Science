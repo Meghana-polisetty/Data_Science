{
 "cells": [
  {
   "cell_type": "code",
   "execution_count": 13,
   "id": "08be1a4b",
   "metadata": {},
   "outputs": [
    {
     "name": "stdout",
     "output_type": "stream",
     "text": [
      "Enter first number12\n",
      "Enter second number8\n",
      "4\n"
     ]
    }
   ],
   "source": [
    "#HCF (Highest common Factor)\n",
    "num1 = int(input(\"Enter first number\"))\n",
    "num2 = int(input(\"Enter second number\"))\n",
    "hcf = 1\n",
    "if num1 > num2:\n",
    "    x = num2\n",
    "else:\n",
    "    x = num1\n",
    "    \n",
    "for i in range(1,x+1):\n",
    "    if ((num1 % i == 0) and (num2 % i == 0)):\n",
    "        hcf = i\n",
    "print(hcf)      \n",
    "        "
   ]
  },
  {
   "cell_type": "code",
   "execution_count": 11,
   "id": "e72c0014",
   "metadata": {},
   "outputs": [
    {
     "data": {
      "text/plain": [
       "4"
      ]
     },
     "execution_count": 11,
     "metadata": {},
     "output_type": "execute_result"
    }
   ],
   "source": [
    "4 % 5 # returns the reminder when 4 is divided by 5"
   ]
  },
  {
   "cell_type": "code",
   "execution_count": 14,
   "id": "844223ad",
   "metadata": {},
   "outputs": [
    {
     "name": "stdout",
     "output_type": "stream",
     "text": [
      "Enter first number12\n",
      "Enter second number8\n",
      "24\n"
     ]
    }
   ],
   "source": [
    "# Lowest common Factor\n",
    "num1 = int(input(\"Enter first number\"))\n",
    "num2 = int(input(\"Enter second number\"))\n",
    "hcf = 1\n",
    "if num1 > num2:\n",
    "    x = num2\n",
    "else:\n",
    "    x = num1\n",
    "    \n",
    "for i in range(1,x+1):\n",
    "    if ((num1 % i == 0) and (num2 % i == 0)):\n",
    "        hcf = i\n",
    "        lcm = int((num1*num2)/hcf)\n",
    "    \n",
    "print(lcm)    \n"
   ]
  },
  {
   "cell_type": "code",
   "execution_count": 17,
   "id": "49d99882",
   "metadata": {},
   "outputs": [
    {
     "data": {
      "text/plain": [
       "2"
      ]
     },
     "execution_count": 17,
     "metadata": {},
     "output_type": "execute_result"
    }
   ],
   "source": [
    "import math\n",
    "math.floor(2.6)"
   ]
  },
  {
   "cell_type": "code",
   "execution_count": 25,
   "id": "64a80a3b",
   "metadata": {},
   "outputs": [
    {
     "data": {
      "text/plain": [
       "'0'"
      ]
     },
     "execution_count": 25,
     "metadata": {},
     "output_type": "execute_result"
    }
   ],
   "source": [
    "str(10%2)"
   ]
  },
  {
   "cell_type": "code",
   "execution_count": 26,
   "id": "069a75c3",
   "metadata": {},
   "outputs": [
    {
     "data": {
      "text/plain": [
       "'1'"
      ]
     },
     "execution_count": 26,
     "metadata": {},
     "output_type": "execute_result"
    }
   ],
   "source": [
    "str(5%4)"
   ]
  },
  {
   "cell_type": "code",
   "execution_count": 29,
   "id": "cd4a4afa",
   "metadata": {},
   "outputs": [
    {
     "name": "stdout",
     "output_type": "stream",
     "text": [
      "Enter a decimal number5\n",
      "101\n"
     ]
    }
   ],
   "source": [
    "#conversion of Decimal to Binary\n",
    "a = int(input(\"Enter a decimal number\"))\n",
    "rem = \"\"\n",
    "binary = \"\"\n",
    "while a>=1:\n",
    "    rem += str(a%2) #we would need to store the reminder in string format because integers cannot be concatenated\n",
    "    a = math.floor(a/2) #floor, because we need to reduce the number to the lowest integer\n",
    "for i in range(len(rem)-1,-1,-1): #with a jump of 1, the list runs from len(rem)-1 to 0\n",
    "    binary = binary + rem[i]\n",
    "print(binary)    "
   ]
  },
  {
   "cell_type": "code",
   "execution_count": 34,
   "id": "80f7542b",
   "metadata": {},
   "outputs": [
    {
     "name": "stdout",
     "output_type": "stream",
     "text": [
      "Enter a characterg\n",
      "The ASCII value of g is 103\n"
     ]
    }
   ],
   "source": [
    "#ASCII value of a character\n",
    "char = str(input(\"Enter a character\"))\n",
    "print(\"The ASCII value of\",char, \"is\", ord(char))\n",
    "#ord(char) is a function to convert a character to an integer (ASCII value)"
   ]
  },
  {
   "cell_type": "code",
   "execution_count": 42,
   "id": "f1d9025a",
   "metadata": {},
   "outputs": [
    {
     "name": "stdout",
     "output_type": "stream",
     "text": [
      "Select operation.\n",
      "1.Add\n",
      "2.Subtract\n",
      "3.Multiply\n",
      "4.Divide\n",
      "Enter choice(1/2/3/4): 1\n",
      "Enter first number: 34\n",
      "Enter second number: 56\n",
      "34.0 + 56.0 = 90.0\n",
      "Let's do next calculation? (yes/no): yes\n",
      "Enter choice(1/2/3/4): 2\n",
      "Enter first number: 23\n",
      "Enter second number: 56\n",
      "23.0 - 56.0 = -33.0\n",
      "Let's do next calculation? (yes/no): yes\n",
      "Enter choice(1/2/3/4): 3\n",
      "Enter first number: 40\n",
      "Enter second number: 20\n",
      "40.0 * 20.0 = 800.0\n",
      "Let's do next calculation? (yes/no): yes\n",
      "Enter choice(1/2/3/4): 4\n",
      "Enter first number: 50\n",
      "Enter second number: 25\n",
      "50.0 / 25.0 = 2.0\n",
      "Let's do next calculation? (yes/no): no\n"
     ]
    }
   ],
   "source": [
    "# Program make a simple calculator\n",
    "\n",
    "# This function adds two numbers\n",
    "def add(x, y):\n",
    "    return x + y\n",
    "\n",
    "# This function subtracts two numbers\n",
    "def subtract(x, y):\n",
    "    return x - y\n",
    "\n",
    "# This function multiplies two numbers\n",
    "def multiply(x, y):\n",
    "    return x * y\n",
    "\n",
    "# This function divides two numbers\n",
    "def divide(x, y):\n",
    "    return x / y\n",
    "\n",
    "\n",
    "print(\"Select operation.\")\n",
    "print(\"1.Add\")\n",
    "print(\"2.Subtract\")\n",
    "print(\"3.Multiply\")\n",
    "print(\"4.Divide\")\n",
    "\n",
    "while True:\n",
    "    # take input from the user\n",
    "    choice = input(\"Enter choice(1/2/3/4): \")\n",
    "\n",
    "    # check if choice is one of the four options\n",
    "    if choice in ('1', '2', '3', '4'):\n",
    "        num1 = float(input(\"Enter first number: \"))\n",
    "        num2 = float(input(\"Enter second number: \"))\n",
    "\n",
    "        if choice == '1':\n",
    "            print(num1, \"+\", num2, \"=\", add(num1, num2))\n",
    "\n",
    "        elif choice == '2':\n",
    "            print(num1, \"-\", num2, \"=\", subtract(num1, num2))\n",
    "\n",
    "        elif choice == '3':\n",
    "            print(num1, \"*\", num2, \"=\", multiply(num1, num2))\n",
    "\n",
    "        elif choice == '4':\n",
    "            print(num1, \"/\", num2, \"=\", divide(num1, num2))\n",
    "        \n",
    "        # check if user wants another calculation\n",
    "        # break the while loop if answer is no\n",
    "        next_calculation = input(\"Let's do next calculation? (yes/no): \")\n",
    "        if next_calculation == \"no\":\n",
    "          break\n",
    "    \n",
    "    else:\n",
    "        print(\"Invalid Input\")"
   ]
  },
  {
   "cell_type": "code",
   "execution_count": null,
   "id": "4dcb08dd",
   "metadata": {},
   "outputs": [],
   "source": []
  }
 ],
 "metadata": {
  "kernelspec": {
   "display_name": "Python 3 (ipykernel)",
   "language": "python",
   "name": "python3"
  },
  "language_info": {
   "codemirror_mode": {
    "name": "ipython",
    "version": 3
   },
   "file_extension": ".py",
   "mimetype": "text/x-python",
   "name": "python",
   "nbconvert_exporter": "python",
   "pygments_lexer": "ipython3",
   "version": "3.9.7"
  }
 },
 "nbformat": 4,
 "nbformat_minor": 5
}
