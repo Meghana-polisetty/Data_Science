{
 "cells": [
  {
   "cell_type": "code",
   "execution_count": 3,
   "id": "15c6384d",
   "metadata": {},
   "outputs": [
    {
     "name": "stdout",
     "output_type": "stream",
     "text": [
      "Enter number of values in the sequence6\n",
      "Fibonacci Sequence\n",
      "0\n",
      "1\n",
      "1\n",
      "2\n",
      "3\n",
      "5\n"
     ]
    }
   ],
   "source": [
    "#recursive function to find fibonacci sequence\n",
    "\n",
    "def recursive_fibo(n):\n",
    "    if n<=1:\n",
    "        return n\n",
    "    else :\n",
    "        return(recursive_fibo(n-1) + recursive_fibo(n-2))\n",
    "\n",
    "num = int(input(\"Enter number of values in the sequence\"))\n",
    "if num <=0:\n",
    "    print(\"Please enter a valid integer\")\n",
    "    \n",
    "else :\n",
    "    print(\"Fibonacci Sequence\")\n",
    "    for i in range(num):\n",
    "        print(recursive_fibo(i))\n",
    "        "
   ]
  },
  {
   "cell_type": "code",
   "execution_count": 7,
   "id": "817f9563",
   "metadata": {},
   "outputs": [
    {
     "name": "stdout",
     "output_type": "stream",
     "text": [
      "Enter number for which you need factorial!7\n",
      "Factorial of the number is  5040\n"
     ]
    }
   ],
   "source": [
    "def fact(x):\n",
    "    if x ==1 :\n",
    "        return 1\n",
    "    else :\n",
    "        return (x * fact(x-1))\n",
    "num = int(input(\"Enter number for which you need factorial!\"))\n",
    "\n",
    "if num ==0:\n",
    "    print(\"Factorial of number is 1\")\n",
    "elif num < 0 :\n",
    "    print(\"Enter valid positive number\")\n",
    "else :\n",
    "    print(\"Factorial of the number is \",fact(num))\n",
    "    "
   ]
  },
  {
   "cell_type": "code",
   "execution_count": 19,
   "id": "923d18a0",
   "metadata": {},
   "outputs": [
    {
     "name": "stdout",
     "output_type": "stream",
     "text": [
      "Enter weight of the person in Kgs56\n",
      "Enter height of the person in centimeters156\n",
      "BMI of the person is  23.011176857330703\n"
     ]
    }
   ],
   "source": [
    "#BMI = kg/m2\n",
    "\n",
    "def bmi(x,y):\n",
    "    return x/(y/100)**2\n",
    "\n",
    "w = float(input(\"Enter weight of the person in Kgs\"))\n",
    "h = float(input(\"Enter height of the person in centimeters\"))\n",
    "\n",
    "print(\"BMI of the person is \", bmi(w,h))"
   ]
  },
  {
   "cell_type": "code",
   "execution_count": 24,
   "id": "1212ffbd",
   "metadata": {},
   "outputs": [
    {
     "name": "stdout",
     "output_type": "stream",
     "text": [
      "0.0\n",
      "2.302585092994046\n",
      "1.0\n"
     ]
    }
   ],
   "source": [
    "#natural logarithm of any number\n",
    "import math\n",
    "print(math.log(1))\n",
    "print(math.log(10))\n",
    "print(math.log(math.e))"
   ]
  },
  {
   "cell_type": "code",
   "execution_count": 26,
   "id": "aeccc562",
   "metadata": {},
   "outputs": [
    {
     "name": "stdout",
     "output_type": "stream",
     "text": [
      "Enter number of values in the sequence4\n",
      "Cube sum of first  4 natural numbers is 100\n"
     ]
    }
   ],
   "source": [
    "#cube sum of first n natural numbers\n",
    "\n",
    "def cube(n):\n",
    "    sum = 0\n",
    "    for i in range(1,n+1):\n",
    "        sum += i*i*i\n",
    "    return sum\n",
    "\n",
    "num = int(input(\"Enter number of values in the sequence\"))\n",
    "\n",
    "print(\"Cube sum of first \", num, \"natural numbers is\", cube(num))"
   ]
  },
  {
   "cell_type": "code",
   "execution_count": null,
   "id": "249d577f",
   "metadata": {},
   "outputs": [],
   "source": []
  }
 ],
 "metadata": {
  "kernelspec": {
   "display_name": "Python 3 (ipykernel)",
   "language": "python",
   "name": "python3"
  },
  "language_info": {
   "codemirror_mode": {
    "name": "ipython",
    "version": 3
   },
   "file_extension": ".py",
   "mimetype": "text/x-python",
   "name": "python",
   "nbconvert_exporter": "python",
   "pygments_lexer": "ipython3",
   "version": "3.9.7"
  }
 },
 "nbformat": 4,
 "nbformat_minor": 5
}
