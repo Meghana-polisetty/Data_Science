{
 "cells": [
  {
   "cell_type": "code",
   "execution_count": 6,
   "id": "d6d5dfa7",
   "metadata": {},
   "outputs": [
    {
     "name": "stdout",
     "output_type": "stream",
     "text": [
      "Enter a number69\n",
      "Number entered is Positive\n"
     ]
    }
   ],
   "source": [
    "#To check if a number is positive,negative or zero\n",
    "a = float(input((\"Enter a number\")))\n",
    "#If a number is greater than 0 on a number scale, Even\n",
    "if a > 0:\n",
    "    print(\"Number entered is Positive\")\n",
    "#If a number is Lesser than 0 on a number scale, Negative    \n",
    "elif a < 0 :\n",
    "    print(\"Number entered is Negative\")\n",
    "else :\n",
    "    print(\"Number entered is 0\")\n"
   ]
  },
  {
   "cell_type": "code",
   "execution_count": 15,
   "id": "d4fbfad7",
   "metadata": {},
   "outputs": [
    {
     "name": "stdout",
     "output_type": "stream",
     "text": [
      "Enter a number30\n",
      "Number entered is Even\n"
     ]
    }
   ],
   "source": [
    "#To check if a number is Odd or Even\n",
    "a = int(input((\"Enter a number\")))\n",
    "#When divided by 2 if a number has reminder 0, then Even\n",
    "if a%2 == 0:\n",
    "    print(\"Number entered is Even\")\n",
    "#When divided by 2 if a number does not provide a reminder 0, then Odd    \n",
    "elif a%2 != 0 :\n",
    "    print(\"Number entered is Odd\")\n",
    "else :\n",
    "    print(\"Enter a valid number\")"
   ]
  },
  {
   "cell_type": "code",
   "execution_count": 16,
   "id": "624fdcd0",
   "metadata": {},
   "outputs": [
    {
     "name": "stdout",
     "output_type": "stream",
     "text": [
      "Enter an Year2000\n",
      "2000 is a leap year\n"
     ]
    }
   ],
   "source": [
    "#To check Leap year\n",
    "y = int(input((\"Enter an Year\")))\n",
    "# divided by 100 means century year (ending with 00)\n",
    "# century year divided by 400 is leap year\n",
    "if (y % 400 == 0) and (y % 100 == 0):\n",
    "    print(\"{0} is a leap year\".format(y))\n",
    "\n",
    "# not divided by 100 means not a century year\n",
    "# year divided by 4 is a leap year\n",
    "elif (y % 4 ==0) and (y % 100 != 0):\n",
    "    print(\"{0} is a leap year\".format(y))\n",
    "\n",
    "# if not divided by both 400 (century year) and 4 (not century year)\n",
    "# year is not leap year\n",
    "else:\n",
    "    print(\"{0} is not a leap year\".format(y))"
   ]
  },
  {
   "cell_type": "code",
   "execution_count": 45,
   "id": "9b9127c8",
   "metadata": {},
   "outputs": [
    {
     "name": "stdout",
     "output_type": "stream",
     "text": [
      "Enter an integer number2\n",
      "It is a prime number\n"
     ]
    }
   ],
   "source": [
    "#To check if a number is Prime number\n",
    "a = int(input((\"Enter an integer number\")))\n",
    "#Only integer, positive numbers can be checked for Prime/Not prime\n",
    "#1 is a composite number\n",
    "if a > 1:\n",
    "#To evaluate all the numbers from 1,a/2    \n",
    "    for i in range(1,int(a/2)+1):\n",
    "#if a number is divisible by 2 and a/2 then it is not a prime number\n",
    "        if a%i == 0:\n",
    "            print(\"It is a prime number\")\n",
    "            break\n",
    "    else:\n",
    "        print(\"Not a prime number\")\n",
    "else:\n",
    "    print(\"Not a prime number\")\n",
    "    "
   ]
  },
  {
   "cell_type": "code",
   "execution_count": 56,
   "id": "331fa56e",
   "metadata": {},
   "outputs": [
    {
     "name": "stdout",
     "output_type": "stream",
     "text": [
      "Enter Lower limit for range2\n",
      "Enter Upper limit for range11\n",
      "2\n",
      "3\n",
      "5\n",
      "7\n",
      "11\n"
     ]
    }
   ],
   "source": [
    "#Printing all prime numbers between a range\n",
    "a = int(input(\"Enter Lower limit for range\"))\n",
    "b = int(input(\"Enter Upper limit for range\"))\n",
    "for num in range(a,b+1):\n",
    "    if num > 1:\n",
    "        for i in range(2,num):\n",
    "            if (num%i) == 0:\n",
    "                break\n",
    "        else :\n",
    "            print(num)"
   ]
  },
  {
   "cell_type": "code",
   "execution_count": null,
   "id": "1c8e7e5e",
   "metadata": {},
   "outputs": [],
   "source": []
  },
  {
   "cell_type": "code",
   "execution_count": null,
   "id": "8b77afdb",
   "metadata": {},
   "outputs": [],
   "source": []
  },
  {
   "cell_type": "code",
   "execution_count": null,
   "id": "18e0622c",
   "metadata": {},
   "outputs": [],
   "source": []
  },
  {
   "cell_type": "code",
   "execution_count": null,
   "id": "2858c363",
   "metadata": {},
   "outputs": [],
   "source": []
  },
  {
   "cell_type": "code",
   "execution_count": null,
   "id": "c326c424",
   "metadata": {},
   "outputs": [],
   "source": []
  },
  {
   "cell_type": "code",
   "execution_count": null,
   "id": "66bdd00c",
   "metadata": {},
   "outputs": [],
   "source": []
  },
  {
   "cell_type": "code",
   "execution_count": null,
   "id": "afbbc80a",
   "metadata": {},
   "outputs": [],
   "source": []
  },
  {
   "cell_type": "code",
   "execution_count": null,
   "id": "82a5de24",
   "metadata": {},
   "outputs": [],
   "source": []
  },
  {
   "cell_type": "code",
   "execution_count": null,
   "id": "ed3e558c",
   "metadata": {},
   "outputs": [],
   "source": []
  },
  {
   "cell_type": "code",
   "execution_count": null,
   "id": "60dba58b",
   "metadata": {},
   "outputs": [],
   "source": []
  },
  {
   "cell_type": "code",
   "execution_count": null,
   "id": "fd42334c",
   "metadata": {},
   "outputs": [],
   "source": []
  },
  {
   "cell_type": "code",
   "execution_count": null,
   "id": "feca8a25",
   "metadata": {},
   "outputs": [],
   "source": []
  },
  {
   "cell_type": "code",
   "execution_count": null,
   "id": "45ecb13d",
   "metadata": {},
   "outputs": [],
   "source": []
  },
  {
   "cell_type": "code",
   "execution_count": null,
   "id": "ce373131",
   "metadata": {},
   "outputs": [],
   "source": []
  },
  {
   "cell_type": "code",
   "execution_count": null,
   "id": "11a5605c",
   "metadata": {},
   "outputs": [],
   "source": []
  },
  {
   "cell_type": "code",
   "execution_count": null,
   "id": "1d644611",
   "metadata": {},
   "outputs": [],
   "source": []
  },
  {
   "cell_type": "code",
   "execution_count": null,
   "id": "f5fe46cd",
   "metadata": {},
   "outputs": [],
   "source": []
  },
  {
   "cell_type": "code",
   "execution_count": null,
   "id": "49f8a9c5",
   "metadata": {},
   "outputs": [],
   "source": []
  },
  {
   "cell_type": "code",
   "execution_count": null,
   "id": "3417a7b4",
   "metadata": {},
   "outputs": [],
   "source": []
  },
  {
   "cell_type": "code",
   "execution_count": null,
   "id": "e6445fd4",
   "metadata": {},
   "outputs": [],
   "source": []
  },
  {
   "cell_type": "code",
   "execution_count": null,
   "id": "9469e2f8",
   "metadata": {},
   "outputs": [],
   "source": []
  }
 ],
 "metadata": {
  "kernelspec": {
   "display_name": "Python 3 (ipykernel)",
   "language": "python",
   "name": "python3"
  },
  "language_info": {
   "codemirror_mode": {
    "name": "ipython",
    "version": 3
   },
   "file_extension": ".py",
   "mimetype": "text/x-python",
   "name": "python",
   "nbconvert_exporter": "python",
   "pygments_lexer": "ipython3",
   "version": "3.9.7"
  }
 },
 "nbformat": 4,
 "nbformat_minor": 5
}
