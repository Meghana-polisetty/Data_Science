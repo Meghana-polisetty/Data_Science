{
 "cells": [
  {
   "cell_type": "markdown",
   "id": "ac281388",
   "metadata": {},
   "source": [
    "Question1. Write a function that stutters a word as if someone is struggling to read it. The\n",
    "first two letters are repeated twice with an ellipsis ... and space after each, and then the\n",
    "word is pronounced with a question mark ?.\n",
    "Examples\n",
    "stutter(&quot;incredible&quot;) ➞ &quot;in... in... incredible?&quot;\n",
    "stutter(&quot;enthusiastic&quot;) ➞ &quot;en... en... enthusiastic?&quot;\n",
    "stutter(&quot;outstanding&quot;) ➞ &quot;ou... ou... outstanding?&quot;\n",
    "\n",
    "Hint :- Assume all input is in lower case and at least two characters long."
   ]
  },
  {
   "cell_type": "code",
   "execution_count": 12,
   "id": "a870c796",
   "metadata": {},
   "outputs": [
    {
     "name": "stdout",
     "output_type": "stream",
     "text": [
      "in...in...incredible?\n",
      "en...en...enthusiastic?\n",
      "ou...ou...outstanding?\n"
     ]
    }
   ],
   "source": [
    "def stutter(string):\n",
    "    s = string[:2] #considering from 2nd character in the string\n",
    "    return (2 * (s + \"...\")) + string + \"?\" #print the first two characters twise, followed by 3 dots and then \"?\"\n",
    "\n",
    "print(stutter(\"incredible\"))\n",
    "print(stutter(\"enthusiastic\"))\n",
    "print(stutter(\"outstanding\"))"
   ]
  },
  {
   "cell_type": "markdown",
   "id": "4b326c8e",
   "metadata": {},
   "source": [
    "Question 2.Create a function that takes an angle in radians and returns the corresponding\n",
    "angle in degrees rounded to one decimal place.\n",
    "Examples\n",
    "radians_to_degrees(1) ➞ 57.3\n",
    "radians_to_degrees(20) ➞ 1145.9\n",
    "radians_to_degrees(50) ➞ 2864.8"
   ]
  },
  {
   "cell_type": "code",
   "execution_count": 18,
   "id": "17f80cdb",
   "metadata": {},
   "outputs": [
    {
     "name": "stdout",
     "output_type": "stream",
     "text": [
      "Enter number of radian values : 3\n",
      "Enter radian value : 1\n",
      "Degree :  57.3\n",
      "Enter radian value : 20\n",
      "Degree :  1146.1\n",
      "Enter radian value : 50\n",
      "Degree :  2865.3\n"
     ]
    }
   ],
   "source": [
    "def radians_to_degrees(rad):\n",
    "    pi = 3.141\n",
    "    deg = rad * (180/pi)\n",
    "    return deg\n",
    "\n",
    "n = int(input(\"Enter number of radian values : \"))\n",
    "for i in range(n):\n",
    "    rad = int(input(\"Enter radian value : \"))\n",
    "    res = radians_to_degrees(rad)\n",
    "    print(\"Degree : \",format(res,\".1f\"))"
   ]
  },
  {
   "cell_type": "markdown",
   "id": "da5d69b9",
   "metadata": {},
   "source": [
    "Question 3. In this challenge, establish if a given integer num is a Curzon number. If 1 plus\n",
    "2 elevated to num is exactly divisible by 1 plus 2 multiplied by num, then num is a Curzon\n",
    "number.\n",
    "Given a non-negative integer num, implement a function that returns True if num is a Curzon\n",
    "number, or False otherwise.\n",
    "Examples\n",
    "is_curzon(5) ➞ True\n",
    "##### 2 ** 5 + 1 = 33\n",
    "##### 2 * 5 + 1 = 11\n",
    "##### 33 is a multiple of 11\n",
    "is_curzon(10) ➞ False\n",
    "##### 2 ** 10 + 1 = 1025\n",
    "##### 2 * 10 + 1 = 21\n",
    "##### 1025 is not a multiple of 21\n",
    "is_curzon(14) ➞ True\n",
    "##### 2 ** 14 + 1 = 16385\n",
    "##### 2 * 14 + 1 = 29\n",
    "##### 16385 is a multiple of 29"
   ]
  },
  {
   "cell_type": "code",
   "execution_count": 19,
   "id": "467f9e5d",
   "metadata": {},
   "outputs": [
    {
     "name": "stdout",
     "output_type": "stream",
     "text": [
      "Enter number of values you want to enter: 3\n",
      "Enter number : 5\n",
      "True\n",
      "Enter number : 10\n",
      "False\n",
      "Enter number : 14\n",
      "True\n"
     ]
    }
   ],
   "source": [
    "def is_curzon(num):\n",
    "    res1 = 2 ** num + 1\n",
    "    res2 = 2 * num + 1\n",
    "    if res1 % res2 == 0:\n",
    "        return True\n",
    "    else :\n",
    "        return False\n",
    "    \n",
    "n = int(input(\"Enter number of values you want to enter: \"))\n",
    "for i in range(n):\n",
    "    num = int(input(\"Enter number : \"))\n",
    "    print(is_curzon(num))    "
   ]
  },
  {
   "cell_type": "markdown",
   "id": "cbe236e1",
   "metadata": {},
   "source": [
    "Question 4.Given the side length x find the area of a hexagon.\n",
    "Examples\n",
    "area_of_hexagon(1) ➞ 2.6\n",
    "area_of_hexagon(2) ➞ 10.4\n",
    "area_of_hexagon(3) ➞ 23.4\n",
    "Given : Area of Hexagon = 3 * sqrt(3) * pow(num,2)"
   ]
  },
  {
   "cell_type": "code",
   "execution_count": 21,
   "id": "f3326e97",
   "metadata": {},
   "outputs": [
    {
     "name": "stdout",
     "output_type": "stream",
     "text": [
      "Enter number of values you want to enter: 3\n",
      "Enter number : 1\n",
      "Area :  2.6\n",
      "Enter number : 2\n",
      "Area :  10.4\n",
      "Enter number : 3\n",
      "Area :  23.4\n"
     ]
    }
   ],
   "source": [
    "import math\n",
    "\n",
    "def area_of_hexagon(num):\n",
    "    area = (3 * math.sqrt(3) * pow(num,2))/2\n",
    "    return area\n",
    "\n",
    "n = int(input(\"Enter number of values you want to enter: \"))\n",
    "for i in range(n):\n",
    "    num = int(input(\"Enter number : \"))\n",
    "    res = area_of_hexagon(num)\n",
    "    print(\"Area : \",format(res,\".1f\"))"
   ]
  },
  {
   "cell_type": "markdown",
   "id": "c603ab76",
   "metadata": {},
   "source": [
    "Question 5. Create a function that returns a base-2 (binary) representation of a base-10\n",
    "(decimal) string number. To convert is simple: ((2) means base-2 and (10) means base-10)\n",
    "010101001(2) = 1 + 8 + 32 + 128.\n",
    "Going from right to left, the value of the most right bit is 1, now from that every bit to the left\n",
    "will be x2 the value, value of an 8 bit binary numbers are (256, 128, 64, 32, 16, 8, 4, 2, 1).\n",
    "Examples\n",
    "binary(1) ➞ &quot;1&quot;\n",
    "##### 1*1 = 1\n",
    "binary(5) ➞ &quot;101&quot;\n",
    "##### 1*1 + 1*4 = 5\n",
    "binary(10) ➞ &quot;1010&quot;\n",
    "##### 1*2 + 1*8 = 10"
   ]
  },
  {
   "cell_type": "code",
   "execution_count": 41,
   "id": "686fcdec",
   "metadata": {},
   "outputs": [
    {
     "name": "stdout",
     "output_type": "stream",
     "text": [
      "Enter number of values you want to enter: 3\n",
      "Enter decimal number : 1\n",
      "1\n",
      "Enter decimal number : 5\n",
      "101\n",
      "Enter decimal number : 10\n",
      "1010\n"
     ]
    }
   ],
   "source": [
    "def binary(num):\n",
    "    while num > 1:\n",
    "        print(bin(num)[2:])\n",
    "        break\n",
    "    else :\n",
    "        print(\"1\")\n",
    "n = int(input(\"Enter number of values you want to enter: \"))\n",
    "for i in range(n):\n",
    "    num = int(input(\"Enter decimal number : \"))\n",
    "    (binary(num)) "
   ]
  },
  {
   "cell_type": "code",
   "execution_count": null,
   "id": "31aef5f3",
   "metadata": {},
   "outputs": [],
   "source": []
  }
 ],
 "metadata": {
  "kernelspec": {
   "display_name": "Python 3 (ipykernel)",
   "language": "python",
   "name": "python3"
  },
  "language_info": {
   "codemirror_mode": {
    "name": "ipython",
    "version": 3
   },
   "file_extension": ".py",
   "mimetype": "text/x-python",
   "name": "python",
   "nbconvert_exporter": "python",
   "pygments_lexer": "ipython3",
   "version": "3.9.7"
  }
 },
 "nbformat": 4,
 "nbformat_minor": 5
}
