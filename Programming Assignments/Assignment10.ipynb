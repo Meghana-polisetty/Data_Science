{
 "cells": [
  {
   "cell_type": "code",
   "execution_count": 8,
   "id": "bab31be6",
   "metadata": {},
   "outputs": [
    {
     "name": "stdout",
     "output_type": "stream",
     "text": [
      "Enter number of elements in the list5\n",
      "20\n",
      "40\n",
      "90\n",
      "100\n",
      "85\n",
      "[20, 40, 90, 100, 85]\n",
      "335\n"
     ]
    }
   ],
   "source": [
    "#Sum of elements in the list:\n",
    "l = []\n",
    "total = 0\n",
    "n = int(input(\"Enter number of elements in the list\"))\n",
    "\n",
    "for i in range (0,n):\n",
    "    ele = int(input())\n",
    "    l.append(ele)\n",
    "    \n",
    "print(l)\n",
    "\n",
    "for ele in range(0,len(l)):\n",
    "    total = total + l[ele]\n",
    "    \n",
    "print(total)    \n",
    "    "
   ]
  },
  {
   "cell_type": "code",
   "execution_count": 9,
   "id": "ac011571",
   "metadata": {},
   "outputs": [
    {
     "name": "stdout",
     "output_type": "stream",
     "text": [
      "Enter number of elements in the list5\n",
      "5\n",
      "50\n",
      "100\n",
      "150\n",
      "200\n",
      "[5, 50, 100, 150, 200]\n",
      "750000000\n"
     ]
    }
   ],
   "source": [
    "#Multiply all elements in the list:\n",
    "l = []\n",
    "total = 1\n",
    "n = int(input(\"Enter number of elements in the list\"))\n",
    "\n",
    "for i in range (0,n):\n",
    "    ele = int(input())\n",
    "    l.append(ele)\n",
    "    \n",
    "print(l)\n",
    "\n",
    "for ele in range(0,len(l)):\n",
    "    total = total * l[ele]\n",
    "    \n",
    "print(total)    \n",
    "    "
   ]
  },
  {
   "cell_type": "code",
   "execution_count": 10,
   "id": "3c83ed9f",
   "metadata": {},
   "outputs": [
    {
     "name": "stdout",
     "output_type": "stream",
     "text": [
      "Enter number of elements in the list5\n",
      "99\n",
      "86\n",
      "45\n",
      "100\n",
      "500\n",
      "[99, 86, 45, 100, 500]\n",
      "Smallest element in the list is : 45\n"
     ]
    }
   ],
   "source": [
    "#Smallest number in the list\n",
    "\n",
    "l=[]\n",
    "n = int(input(\"Enter number of elements in the list\"))\n",
    "\n",
    "for i in range(0,n):\n",
    "    ele = int(input())\n",
    "    l.append(ele)\n",
    "print(l)\n",
    "\n",
    "min = l[0]\n",
    "\n",
    "for i in range (0,len(l)):\n",
    "    if l[i] < min:\n",
    "        min = l[i]\n",
    "        \n",
    "print(\"Smallest element in the list is :\",min)        "
   ]
  },
  {
   "cell_type": "code",
   "execution_count": 11,
   "id": "faa01ecf",
   "metadata": {},
   "outputs": [
    {
     "name": "stdout",
     "output_type": "stream",
     "text": [
      "Enter number of elements in the list5\n",
      "30\n",
      "56\n",
      "74\n",
      "10\n",
      "45\n",
      "[30, 56, 74, 10, 45]\n",
      "Largest element in the list is : 74\n"
     ]
    }
   ],
   "source": [
    "#Largest number in the list\n",
    "\n",
    "l=[]\n",
    "n = int(input(\"Enter number of elements in the list\"))\n",
    "\n",
    "for i in range(0,n):\n",
    "    ele = int(input())\n",
    "    l.append(ele)\n",
    "print(l)\n",
    "\n",
    "max = l[0]\n",
    "\n",
    "for i in range (0,len(l)):\n",
    "    if l[i] > max:\n",
    "        max = l[i]\n",
    "        \n",
    "print(\"Largest element in the list is :\",max)   \n"
   ]
  },
  {
   "cell_type": "code",
   "execution_count": 12,
   "id": "631933e3",
   "metadata": {},
   "outputs": [
    {
     "name": "stdout",
     "output_type": "stream",
     "text": [
      "Enter number of elements in the list5\n",
      "46\n",
      "78\n",
      "90\n",
      "99\n",
      "86\n",
      "[46, 78, 90, 99, 86]\n",
      "90\n"
     ]
    }
   ],
   "source": [
    "#To find second largest element in the list\n",
    "def findseclargest(arr):\n",
    "    secondlargest = arr[0]\n",
    "    largest = arr[0]\n",
    " \n",
    "    for i in range(len(arr)):\n",
    "        if arr[i] > largest:\n",
    "            largest = arr[i]\n",
    "            \n",
    "    for i in range(len(arr)):\n",
    "        if arr[i] > secondlargest and arr[i] != largest:\n",
    "            secondlargest = arr[i]\n",
    "    return secondlargest\n",
    " \n",
    "l=[]\n",
    "n = int(input(\"Enter number of elements in the list\"))\n",
    "\n",
    "for i in range(0,n):\n",
    "    ele = int(input())\n",
    "    l.append(ele)\n",
    "print(l)\n",
    "\n",
    "print(findseclargest(l))"
   ]
  },
  {
   "cell_type": "code",
   "execution_count": 13,
   "id": "414de617",
   "metadata": {},
   "outputs": [
    {
     "name": "stdout",
     "output_type": "stream",
     "text": [
      "Enter number of elements in the list : 5\n",
      "34\n",
      "67\n",
      "10\n",
      "46\n",
      "24\n",
      "Elements in the list :\n",
      "\n",
      "[34, 67, 10, 46, 24]\n",
      "\n",
      "Enter the number of largest elements you want from the list : 3\n",
      "\n",
      "Number of largest elements in the list are: [67, 46, 34]\n"
     ]
    }
   ],
   "source": [
    "# To remove N largest elements from a list\n",
    "\n",
    "def Nlargestelements(l, N):\n",
    "    final_list = []\n",
    "    \n",
    "    for i in range(0, N):\n",
    "        max1 = 0\n",
    "        \n",
    "        for j in range(0, len(l)):\n",
    "            if l[j] > max1:\n",
    "                max1 = l[j]\n",
    "                \n",
    "        l.remove(max1)\n",
    "        final_list.append(max1)\n",
    "        \n",
    "    return (final_list)\n",
    "    \n",
    "l=[]\n",
    "x = int(input(\"Enter number of elements in the list : \"))\n",
    "\n",
    "for i in range(0,x):\n",
    "    ele = int(input())\n",
    "    l.append(ele)\n",
    "\n",
    "\n",
    "print(\"Elements in the list :\")\n",
    "print(\"\")\n",
    "print(l)\n",
    "print(\"\")\n",
    "N = int(input(\"Enter the number of largest elements you want from the list : \"))\n",
    "print(\"\")\n",
    "print(\"Number of largest elements in the list are:\", Nlargestelements(l,N))"
   ]
  },
  {
   "cell_type": "code",
   "execution_count": 15,
   "id": "87288267",
   "metadata": {},
   "outputs": [
    {
     "name": "stdout",
     "output_type": "stream",
     "text": [
      "Enter number of elements in the list : 5\n",
      "46\n",
      "25\n",
      "12\n",
      "34\n",
      "99\n",
      "Elements in the list :\n",
      "[46, 25, 12, 34, 99]\n",
      "Even elements in the list are : [46, 12, 34]\n"
     ]
    }
   ],
   "source": [
    "#Print even numbers in the list\n",
    "\n",
    "def evennumbers(l):\n",
    "    final_list = []\n",
    "    \n",
    "    for i in range(0,len(l)):\n",
    "        if l[i] % 2 == 0:\n",
    "            final_list.append(l[i])\n",
    "    return (final_list)        \n",
    "\n",
    "l=[]\n",
    "x = int(input(\"Enter number of elements in the list : \"))\n",
    "\n",
    "for i in range(0,x):\n",
    "    ele = int(input())\n",
    "    l.append(ele)\n",
    "\n",
    "\n",
    "print(\"Elements in the list :\")\n",
    "print(l)\n",
    "\n",
    "print(\"Even elements in the list are :\",evennumbers(l))"
   ]
  },
  {
   "cell_type": "code",
   "execution_count": 16,
   "id": "37a761de",
   "metadata": {},
   "outputs": [
    {
     "name": "stdout",
     "output_type": "stream",
     "text": [
      "Enter number of elements in the list : 5\n",
      "44\n",
      "47\n",
      "99\n",
      "89\n",
      "9\n",
      "Elements in the list :\n",
      "[44, 47, 99, 89, 9]\n",
      "Odd elements in the list are : [47, 99, 89, 9]\n"
     ]
    }
   ],
   "source": [
    "#Print odd numbers in the list\n",
    "\n",
    "def oddnumbers(l):\n",
    "    final_list = []\n",
    "    \n",
    "    for i in range(0,len(l)):\n",
    "        if l[i] % 2 != 0:\n",
    "            final_list.append(l[i])\n",
    "    return (final_list)        \n",
    "\n",
    "l=[]\n",
    "x = int(input(\"Enter number of elements in the list : \"))\n",
    "\n",
    "for i in range(0,x):\n",
    "    ele = int(input())\n",
    "    l.append(ele)\n",
    "\n",
    "\n",
    "print(\"Elements in the list :\")\n",
    "print(l)\n",
    "\n",
    "print(\"Odd elements in the list are :\",oddnumbers(l))"
   ]
  },
  {
   "cell_type": "code",
   "execution_count": 17,
   "id": "48fa11d2",
   "metadata": {},
   "outputs": [
    {
     "name": "stdout",
     "output_type": "stream",
     "text": [
      "Enter number of elements in the list : 5\n",
      "24\n",
      "56\n",
      "78\n",
      "99\n",
      "10\n",
      "Elements in the original list :\n",
      "['24', '56', '78', '99', '10']\n",
      "\n",
      "Elements in the Copy list :\n",
      "['24', '56', '78', '99', '10']\n"
     ]
    }
   ],
   "source": [
    "#Cloning or copying elements in a list\n",
    "\n",
    "def cloning(l):\n",
    "    l_copy = l\n",
    "    return l_copy\n",
    "\n",
    "l=[]\n",
    "x = int(input(\"Enter number of elements in the list : \"))\n",
    "\n",
    "for i in range(0,x):\n",
    "    ele = (input())\n",
    "    l.append(ele)\n",
    "\n",
    "\n",
    "print(\"Elements in the original list :\")\n",
    "print(l)\n",
    "print(\"\")\n",
    "l2 = cloning(l)\n",
    "print(\"Elements in the Copy list :\")\n",
    "print(l2)"
   ]
  },
  {
   "cell_type": "code",
   "execution_count": 18,
   "id": "b581b49f",
   "metadata": {},
   "outputs": [
    {
     "name": "stdout",
     "output_type": "stream",
     "text": [
      "Enter number of elements in the list : 5\n",
      "10\n",
      "10\n",
      "14\n",
      "99\n",
      "99\n",
      "Elements in the original list :\n",
      "[10, 10, 14, 99, 99]\n",
      "Enter the element for which you want to know the number of occurances? 99\n",
      "2\n"
     ]
    }
   ],
   "source": [
    "#Count occurrences of an element in a list\n",
    "\n",
    "def countX(list1, x):\n",
    "    count = 0\n",
    "    for ele1 in list1:\n",
    "        if (ele1 == x):\n",
    "            count = count + 1\n",
    "    return count\n",
    "\n",
    "l=[]\n",
    "x = int(input(\"Enter number of elements in the list : \"))\n",
    "\n",
    "for i in range(0,x):\n",
    "    ele = int(input())\n",
    "    l.append(ele)\n",
    "\n",
    "\n",
    "print(\"Elements in the original list :\")\n",
    "print(l)\n",
    "\n",
    "a = int(input(\"Enter the element for which you want to know the number of occurances? \"))\n",
    "print(countX(l,a))\n"
   ]
  },
  {
   "cell_type": "code",
   "execution_count": null,
   "id": "789ab1d9",
   "metadata": {},
   "outputs": [],
   "source": []
  }
 ],
 "metadata": {
  "kernelspec": {
   "display_name": "Python 3 (ipykernel)",
   "language": "python",
   "name": "python3"
  },
  "language_info": {
   "codemirror_mode": {
    "name": "ipython",
    "version": 3
   },
   "file_extension": ".py",
   "mimetype": "text/x-python",
   "name": "python",
   "nbconvert_exporter": "python",
   "pygments_lexer": "ipython3",
   "version": "3.9.7"
  }
 },
 "nbformat": 4,
 "nbformat_minor": 5
}
