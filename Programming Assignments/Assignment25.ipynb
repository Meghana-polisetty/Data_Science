{
 "cells": [
  {
   "cell_type": "markdown",
   "id": "359810c0",
   "metadata": {},
   "source": [
    "Question1\n",
    "Create a function that takes three integer arguments (a, b, c) and returns the amount of\n",
    "integers which are of equal value.\n",
    "Examples\n",
    "equal(3, 4, 3) ➞ 2\n",
    "equal(1, 1, 1) ➞ 3\n",
    "equal(3, 4, 1) ➞ 0\n",
    "Notes\n",
    "Your function must return 0, 2 or 3."
   ]
  },
  {
   "cell_type": "code",
   "execution_count": 11,
   "id": "76973acf",
   "metadata": {},
   "outputs": [
    {
     "name": "stdout",
     "output_type": "stream",
     "text": [
      "Enter a number : 3\n",
      "Enter a number : 4\n",
      "Enter a number : 3\n",
      "2\n",
      "Enter a number : 1\n",
      "Enter a number : 1\n",
      "Enter a number : 1\n",
      "3\n",
      "Enter a number : 3\n",
      "Enter a number : 4\n",
      "Enter a number : 1\n",
      "0\n"
     ]
    }
   ],
   "source": [
    "def equals(a,b,c):\n",
    "    count = 0\n",
    "    if a == b and a == c :\n",
    "        count = 3\n",
    "    elif a == b or a == c :\n",
    "        count = 2\n",
    "    else:\n",
    "        count = 0\n",
    "    return count\n",
    "\n",
    "N = 3\n",
    "for j in range(N):\n",
    "    a = int(input(\"Enter a number : \"))\n",
    "    b = int(input(\"Enter a number : \"))\n",
    "    c = int(input(\"Enter a number : \"))\n",
    "    print(equals(a,b,c))  "
   ]
  },
  {
   "cell_type": "markdown",
   "id": "5818e4d2",
   "metadata": {},
   "source": [
    "Question2\n",
    "Write a function that converts a dictionary into a list of keys-values tuples.\n",
    "Examples\n",
    "dict_to_list({\n",
    "&quot;D&quot;: 1,\n",
    "&quot;B&quot;: 2,\n",
    "&quot;C&quot;: 3\n",
    "}) ➞ [(&quot;B&quot;, 2), (&quot;C&quot;, 3), (&quot;D&quot;, 1)]\n",
    "dict_to_list({\n",
    "&quot;likes&quot;: 2,\n",
    "&quot;dislikes&quot;: 3,\n",
    "&quot;followers&quot;: 10\n",
    "}) ➞ [(&quot;dislikes&quot;, 3), (&quot;followers&quot;, 10), (&quot;likes&quot;, 2)]\n",
    "Notes\n",
    "Return the elements in the list in alphabetical order."
   ]
  },
  {
   "cell_type": "code",
   "execution_count": 9,
   "id": "19a30393",
   "metadata": {},
   "outputs": [
    {
     "data": {
      "text/plain": [
       "[('D', 1), ('B', 2), ('C', 3)]"
      ]
     },
     "execution_count": 9,
     "metadata": {},
     "output_type": "execute_result"
    }
   ],
   "source": [
    "def dict_to_list(dict1):\n",
    "    return list(dict1.items())\n",
    "dict_to_list({ \"D\": 1, \"B\": 2, \"C\": 3 })"
   ]
  },
  {
   "cell_type": "code",
   "execution_count": 10,
   "id": "855edfe8",
   "metadata": {},
   "outputs": [
    {
     "data": {
      "text/plain": [
       "[('likes', 2), ('dislikes', 3), ('followers', 10)]"
      ]
     },
     "execution_count": 10,
     "metadata": {},
     "output_type": "execute_result"
    }
   ],
   "source": [
    "dict_to_list({ \"likes\": 2, \"dislikes\": 3, \"followers\": 10 })"
   ]
  },
  {
   "cell_type": "markdown",
   "id": "cfea1008",
   "metadata": {},
   "source": [
    "Question3\n",
    "Write a function that creates a dictionary with each (key, value) pair being the (lower case,\n",
    "upper case) versions of a letter, respectively.\n",
    "Examples\n",
    "mapping([&quot;p&quot;, &quot;s&quot;]) ➞ { &quot;p&quot;: &quot;P&quot;, &quot;s&quot;: &quot;S&quot; }\n",
    "\n",
    "mapping([&quot;a&quot;, &quot;b&quot;, &quot;c&quot;]) ➞ { &quot;a&quot;: &quot;A&quot;, &quot;b&quot;: &quot;B&quot;, &quot;c&quot;: &quot;C&quot; }\n",
    "mapping([&quot;a&quot;, &quot;v&quot;, &quot;y&quot;, &quot;z&quot;]) ➞ { &quot;a&quot;: &quot;A&quot;, &quot;v&quot;: &quot;V&quot;, &quot;y&quot;: &quot;Y&quot;, &quot;z&quot;: &quot;Z&quot; }\n",
    "Notes\n",
    "All of the letters in the input list will always be lowercase."
   ]
  },
  {
   "cell_type": "code",
   "execution_count": 5,
   "id": "5d929132",
   "metadata": {},
   "outputs": [],
   "source": [
    "#dict((k.lower(), v.lower()) for k,v in {'My Key':'My Value'}.iteritems())\n",
    "\n",
    "def mapping(list1):\n",
    "    return {v.lower():v.upper() for v in list1}"
   ]
  },
  {
   "cell_type": "code",
   "execution_count": 6,
   "id": "3d61df2f",
   "metadata": {},
   "outputs": [
    {
     "data": {
      "text/plain": [
       "{'p': 'P', 's': 'S'}"
      ]
     },
     "execution_count": 6,
     "metadata": {},
     "output_type": "execute_result"
    }
   ],
   "source": [
    "mapping([\"p\", \"s\"])"
   ]
  },
  {
   "cell_type": "code",
   "execution_count": 7,
   "id": "719f4c9a",
   "metadata": {},
   "outputs": [
    {
     "data": {
      "text/plain": [
       "{'a': 'A', 'b': 'B', 'c': 'C'}"
      ]
     },
     "execution_count": 7,
     "metadata": {},
     "output_type": "execute_result"
    }
   ],
   "source": [
    "mapping([\"a\", \"b\", \"c\"]) "
   ]
  },
  {
   "cell_type": "code",
   "execution_count": 8,
   "id": "fb5b9c34",
   "metadata": {},
   "outputs": [
    {
     "data": {
      "text/plain": [
       "{'a': 'A', 'v': 'V', 'y': 'Y', 'z': 'Z'}"
      ]
     },
     "execution_count": 8,
     "metadata": {},
     "output_type": "execute_result"
    }
   ],
   "source": [
    "mapping([\"a\", \"v\", \"y\", \"z\"])"
   ]
  },
  {
   "cell_type": "markdown",
   "id": "6b38a669",
   "metadata": {},
   "source": [
    "Question4\n",
    "Write a function, that replaces all vowels in a string with a specified vowel.\n",
    "Examples\n",
    "vow_replace(&quot;apples and bananas&quot;, &quot;u&quot;) ➞ &quot;upplus und bununus&quot;\n",
    "vow_replace(&quot;cheese casserole&quot;, &quot;o&quot;) ➞ &quot;chooso cossorolo&quot;\n",
    "vow_replace(&quot;stuffed jalapeno poppers&quot;, &quot;e&quot;) ➞ &quot;steffed jelepene peppers&quot;\n",
    "Notes\n",
    "All words will be lowercase. Y is not considered a vowel."
   ]
  },
  {
   "cell_type": "code",
   "execution_count": 4,
   "id": "88f6eaa6",
   "metadata": {},
   "outputs": [
    {
     "name": "stdout",
     "output_type": "stream",
     "text": [
      "Enter a sttring : apples and bananas\n",
      "Enter a character to replace : u\n",
      "upplus und bununus\n",
      "Enter a sttring : cheese casserole\n",
      "Enter a character to replace : o\n",
      "chooso cossorolo\n",
      "Enter a sttring : stuffed jalapeno poppers\n",
      "Enter a character to replace : e\n",
      "steffed jelepene peppers\n"
     ]
    }
   ],
   "source": [
    "def vow_replace(s,char):\n",
    "    vowel ='AEIOUaeiuo'\n",
    "    list1 = []\n",
    "    for i in range(len(s)):\n",
    "        if s[i] in vowel:\n",
    "            list1.append(char)\n",
    "        else:\n",
    "            list1.append(s[i])\n",
    "\n",
    "    return ''.join((list1))\n",
    "\n",
    "N = 3\n",
    "for j in range(N):\n",
    "    s = (input(\"Enter a sttring : \"))\n",
    "    char = (input(\"Enter a character to replace : \"))\n",
    "    \n",
    "    print(vow_replace(s,char))  "
   ]
  },
  {
   "cell_type": "markdown",
   "id": "9647bb82",
   "metadata": {},
   "source": [
    "Question5\n",
    "Create a function that takes a string as input and capitalizes a letter if its ASCII code is even\n",
    "and returns its lower case version if its ASCII code is odd.\n",
    "Examples\n",
    "ascii_capitalize(&quot;to be or not to be!&quot;) ➞ &quot;To Be oR NoT To Be!&quot;\n",
    "ascii_capitalize(&quot;THE LITTLE MERMAID&quot;) ➞ &quot;THe LiTTLe meRmaiD&quot;\n",
    "ascii_capitalize(&quot;Oh what a beautiful morning.&quot;) ➞ &quot;oH wHaT a BeauTiFuL\n",
    "moRNiNg.&quot;"
   ]
  },
  {
   "cell_type": "code",
   "execution_count": 2,
   "id": "980fde9d",
   "metadata": {},
   "outputs": [
    {
     "name": "stdout",
     "output_type": "stream",
     "text": [
      "Enter a string : to be or not to be!\n",
      "To Be oR NoT To Be!\n",
      "Enter a string : THE LITTLE MERMAID\n",
      "THe LiTTLe meRmaiD\n",
      "Enter a string : oh what a beautiful morning\n",
      "oH wHaT a BeauTiFuL moRNiNg\n"
     ]
    }
   ],
   "source": [
    "def ascii_capitalize(string):\n",
    "    list1 = []\n",
    "    for i in range(len(string)):\n",
    "        if ord(string[i]) % 2 == 0: # To get ascii value of char python, the ord () method \n",
    "            list1.append(string[i].upper()) #ASCII code is even returns its capitalize case version\n",
    "        else:\n",
    "            list1.append(string[i].lower()) #ASCII code is odd and returns its lower case version\n",
    "\n",
    "    return \"\".join((list1))\n",
    "\n",
    "N = 3\n",
    "for j in range(N):\n",
    "    string = (input(\"Enter a string : \"))\n",
    "    print(ascii_capitalize(string))  "
   ]
  }
 ],
 "metadata": {
  "kernelspec": {
   "display_name": "Python 3 (ipykernel)",
   "language": "python",
   "name": "python3"
  },
  "language_info": {
   "codemirror_mode": {
    "name": "ipython",
    "version": 3
   },
   "file_extension": ".py",
   "mimetype": "text/x-python",
   "name": "python",
   "nbconvert_exporter": "python",
   "pygments_lexer": "ipython3",
   "version": "3.9.7"
  }
 },
 "nbformat": 4,
 "nbformat_minor": 5
}
