{
 "cells": [
  {
   "cell_type": "code",
   "execution_count": 4,
   "id": "c4d0048e",
   "metadata": {},
   "outputs": [
    {
     "name": "stdout",
     "output_type": "stream",
     "text": [
      "Enter a number5\n",
      "Factorial of 5 is 120\n"
     ]
    }
   ],
   "source": [
    "#Factorial of a number\n",
    "num = int(input(\"Enter a number\"))\n",
    "f=1\n",
    "if num < 0:\n",
    "    print(\"Factorial doesn't exist for a negative number\")\n",
    "elif num == 0:\n",
    "    print(\"Factorial of 0 is 1\")\n",
    "else :\n",
    "    for i in range(1,num+1):\n",
    "        f = f*i\n",
    "    print(\"Factorial of\",num,\"is\",f)    \n",
    "\n",
    "    "
   ]
  },
  {
   "cell_type": "code",
   "execution_count": 7,
   "id": "f3f2c4fd",
   "metadata": {},
   "outputs": [
    {
     "name": "stdout",
     "output_type": "stream",
     "text": [
      "Display multiplication table of?3\n",
      "3 X 1 = 3\n",
      "3 X 2 = 6\n",
      "3 X 3 = 9\n",
      "3 X 4 = 12\n",
      "3 X 5 = 15\n",
      "3 X 6 = 18\n",
      "3 X 7 = 21\n",
      "3 X 8 = 24\n",
      "3 X 9 = 27\n",
      "3 X 10 = 30\n",
      "3 X 11 = 33\n",
      "3 X 12 = 36\n"
     ]
    }
   ],
   "source": [
    "#Multiplication table\n",
    "num = int(input(\"Display multiplication table of?\"))\n",
    "for i in range(1,13):\n",
    "    print(num, \"X\", i, \"=\",num*i)\n"
   ]
  },
  {
   "cell_type": "code",
   "execution_count": 12,
   "id": "bd5ae7a8",
   "metadata": {},
   "outputs": [
    {
     "name": "stdout",
     "output_type": "stream",
     "text": [
      "Enter a number to print fibonacci series6\n",
      "Fibonacci Series of  6 numbers is :\n",
      "1\n",
      "2\n",
      "3\n",
      "5\n",
      "8\n",
      "13\n"
     ]
    }
   ],
   "source": [
    "#Fibonacci Series\n",
    "a = int(input(\"Enter a number to print fibonacci series\"))\n",
    "fib1 = 1\n",
    "fib2 = 2\n",
    "count = 0\n",
    "if a <= 0:\n",
    "    print(\"Enter a positive number for the fibonacci series\")\n",
    "elif a == 1:\n",
    "    print(\"Fibonacci Series : =\",fib1)\n",
    "else:\n",
    "    print(\"Fibonacci Series of \",a,\"numbers is :\")\n",
    "    \n",
    "    while count < a:\n",
    "        \n",
    "        print(fib1)\n",
    "        fib3 = fib1 + fib2\n",
    "        fib1 = fib2\n",
    "        fib2 = fib3\n",
    "        count = count+1"
   ]
  },
  {
   "cell_type": "code",
   "execution_count": 15,
   "id": "6852d502",
   "metadata": {},
   "outputs": [
    {
     "name": "stdout",
     "output_type": "stream",
     "text": [
      "Enter a number to check Armstrong number or not?153\n",
      "153 is Armstrong number\n"
     ]
    }
   ],
   "source": [
    "#To check if the number is an armstrong number\n",
    "num = int(input(\"Enter a number to check Armstrong number or not?\"))\n",
    "sum = 0\n",
    "temp = num\n",
    "while temp > 0:\n",
    "    digit = temp % 10\n",
    "    sum += digit**3\n",
    "    temp //=10\n",
    "if num == sum:\n",
    "    print(num,\"is Armstrong number\")\n",
    "else :\n",
    "    print(num,\"is not an Armstrong number\")\n"
   ]
  },
  {
   "cell_type": "code",
   "execution_count": 26,
   "id": "b9d1ca81",
   "metadata": {},
   "outputs": [
    {
     "name": "stdout",
     "output_type": "stream",
     "text": [
      "Enter lower limit150\n",
      "Enter upper limit160\n",
      "150 is not an Armstrong number\n",
      "151 is not an Armstrong number\n",
      "152 is not an Armstrong number\n",
      "153 is Armstrong number\n",
      "154 is not an Armstrong number\n",
      "155 is not an Armstrong number\n",
      "156 is not an Armstrong number\n",
      "157 is not an Armstrong number\n",
      "158 is not an Armstrong number\n",
      "159 is not an Armstrong number\n",
      "160 is not an Armstrong number\n"
     ]
    }
   ],
   "source": [
    "#Armstrong number in an interval\n",
    "lower = int(input(\"Enter lower limit\"))\n",
    "upper = int(input(\"Enter upper limit\"))\n",
    "\n",
    "for num in range (lower,upper+1):\n",
    "    sum = 0\n",
    "    temp = num\n",
    "    while temp > 0:\n",
    "        digit = temp % 10\n",
    "        sum += digit**3\n",
    "        temp //=10\n",
    "    if num == sum:\n",
    "        print(num,\"is Armstrong number\")\n",
    "    else :\n",
    "        print(num,\"is not an Armstrong number\")"
   ]
  },
  {
   "cell_type": "code",
   "execution_count": 34,
   "id": "369efa38",
   "metadata": {},
   "outputs": [
    {
     "name": "stdout",
     "output_type": "stream",
     "text": [
      "Enter a number till which you want to find the sum of natural numbers5\n",
      "15\n"
     ]
    }
   ],
   "source": [
    "num = int(input(\"Enter a number till which you want to find the sum of natural numbers\"))\n",
    "if num < 0 :\n",
    "    print(\"enter a positive number\")\n",
    "else :\n",
    "    sum = 0\n",
    "    while num > 0:\n",
    "        sum += num\n",
    "        num -= 1\n",
    "    print(sum)"
   ]
  },
  {
   "cell_type": "code",
   "execution_count": null,
   "id": "80aed98d",
   "metadata": {},
   "outputs": [],
   "source": []
  }
 ],
 "metadata": {
  "kernelspec": {
   "display_name": "Python 3 (ipykernel)",
   "language": "python",
   "name": "python3"
  },
  "language_info": {
   "codemirror_mode": {
    "name": "ipython",
    "version": 3
   },
   "file_extension": ".py",
   "mimetype": "text/x-python",
   "name": "python",
   "nbconvert_exporter": "python",
   "pygments_lexer": "ipython3",
   "version": "3.9.7"
  }
 },
 "nbformat": 4,
 "nbformat_minor": 5
}
